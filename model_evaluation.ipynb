{
 "cells": [
  {
   "cell_type": "code",
   "execution_count": 91,
   "metadata": {},
   "outputs": [],
   "source": [
    "import pandas as pd"
   ]
  },
  {
   "cell_type": "markdown",
   "metadata": {},
   "source": [
    "1. Given the following confusion matrix, evaluate (by hand) the model's performance."
   ]
  },
  {
   "cell_type": "raw",
   "metadata": {},
   "source": [
    "|               | actual cat | actual dog |\n",
    "|:------------  |-----------:|-----------:|\n",
    "| predicted cat |         34 |          7 |\n",
    "| predicted dog |         13 |         46 |"
   ]
  },
  {
   "cell_type": "code",
   "execution_count": 92,
   "metadata": {},
   "outputs": [],
   "source": [
    "TP = 34\n",
    "TN = 46\n",
    "FP = 7\n",
    "FN = 13"
   ]
  },
  {
   "cell_type": "code",
   "execution_count": 93,
   "metadata": {},
   "outputs": [
    {
     "data": {
      "text/plain": [
       "0.8"
      ]
     },
     "execution_count": 93,
     "metadata": {},
     "output_type": "execute_result"
    }
   ],
   "source": [
    "# Accuracy\n",
    "accuracy = (TP + TN) / (TP + TN + FP + FN)\n",
    "accuracy"
   ]
  },
  {
   "cell_type": "code",
   "execution_count": 94,
   "metadata": {},
   "outputs": [
    {
     "data": {
      "text/plain": [
       "0.723404255319149"
      ]
     },
     "execution_count": 94,
     "metadata": {},
     "output_type": "execute_result"
    }
   ],
   "source": [
    "# Recall / True Positive Rate (Sensitivity)\n",
    "\n",
    "recall = (TP) / (TP + FN)\n",
    "recall"
   ]
  },
  {
   "cell_type": "code",
   "execution_count": 95,
   "metadata": {},
   "outputs": [
    {
     "data": {
      "text/plain": [
       "0.8292682926829268"
      ]
     },
     "execution_count": 95,
     "metadata": {},
     "output_type": "execute_result"
    }
   ],
   "source": [
    "# Precision / Positive Predictive Value\n",
    "precision = TP / (TP + FP)\n",
    "precision"
   ]
  },
  {
   "cell_type": "code",
   "execution_count": 96,
   "metadata": {},
   "outputs": [
    {
     "data": {
      "text/plain": [
       "0.8679245283018868"
      ]
     },
     "execution_count": 96,
     "metadata": {},
     "output_type": "execute_result"
    }
   ],
   "source": [
    "# Specificity / True Negative Rate\n",
    "\n",
    "specificity = TN / (TN + FP)\n",
    "specificity"
   ]
  },
  {
   "cell_type": "markdown",
   "metadata": {},
   "source": [
    "- In the context of this problem, what is a false positive?"
   ]
  },
  {
   "cell_type": "code",
   "execution_count": 97,
   "metadata": {},
   "outputs": [],
   "source": [
    "# We predict a cat but it's actually a dog"
   ]
  },
  {
   "cell_type": "markdown",
   "metadata": {},
   "source": [
    "- In the context of this problem, what is a false negative?"
   ]
  },
  {
   "cell_type": "code",
   "execution_count": 98,
   "metadata": {},
   "outputs": [],
   "source": [
    "# We predict a dog but it's actually a cat"
   ]
  },
  {
   "cell_type": "markdown",
   "metadata": {},
   "source": [
    "- How would you describe this model?"
   ]
  },
  {
   "cell_type": "code",
   "execution_count": 99,
   "metadata": {},
   "outputs": [],
   "source": [
    "# Our model is 80% accurate (accuracy)\n",
    "# 83% of the time that we predicted a cat, we were correct (precision)\n",
    "# We predicted 72% of the sample that were cats correctly (sensitivity)\n",
    "# We predicted 87% of the sample that were dogs correctly (specificity)"
   ]
  },
  {
   "cell_type": "markdown",
   "metadata": {},
   "source": [
    "2. You are working as a datascientist working for Codeup Cody Creator (C3 for short), a rubber-duck manufacturing plant.\n",
    "\n",
    "    Unfortunately, some of the rubber ducks that are produced will have defects. Your team has built several models that try to predict those defects, and the data from their predictions can be found here.\n",
    "\n",
    "    Use the predictions dataset and pandas to help answer the following questions:"
   ]
  },
  {
   "cell_type": "code",
   "execution_count": 100,
   "metadata": {},
   "outputs": [
    {
     "data": {
      "text/html": [
       "<div>\n",
       "<style scoped>\n",
       "    .dataframe tbody tr th:only-of-type {\n",
       "        vertical-align: middle;\n",
       "    }\n",
       "\n",
       "    .dataframe tbody tr th {\n",
       "        vertical-align: top;\n",
       "    }\n",
       "\n",
       "    .dataframe thead th {\n",
       "        text-align: right;\n",
       "    }\n",
       "</style>\n",
       "<table border=\"1\" class=\"dataframe\">\n",
       "  <thead>\n",
       "    <tr style=\"text-align: right;\">\n",
       "      <th></th>\n",
       "      <th>actual</th>\n",
       "      <th>model1</th>\n",
       "      <th>model2</th>\n",
       "      <th>model3</th>\n",
       "    </tr>\n",
       "  </thead>\n",
       "  <tbody>\n",
       "    <tr>\n",
       "      <th>0</th>\n",
       "      <td>No Defect</td>\n",
       "      <td>No Defect</td>\n",
       "      <td>Defect</td>\n",
       "      <td>No Defect</td>\n",
       "    </tr>\n",
       "    <tr>\n",
       "      <th>1</th>\n",
       "      <td>No Defect</td>\n",
       "      <td>No Defect</td>\n",
       "      <td>Defect</td>\n",
       "      <td>Defect</td>\n",
       "    </tr>\n",
       "    <tr>\n",
       "      <th>2</th>\n",
       "      <td>No Defect</td>\n",
       "      <td>No Defect</td>\n",
       "      <td>Defect</td>\n",
       "      <td>No Defect</td>\n",
       "    </tr>\n",
       "    <tr>\n",
       "      <th>3</th>\n",
       "      <td>No Defect</td>\n",
       "      <td>Defect</td>\n",
       "      <td>Defect</td>\n",
       "      <td>Defect</td>\n",
       "    </tr>\n",
       "    <tr>\n",
       "      <th>4</th>\n",
       "      <td>No Defect</td>\n",
       "      <td>No Defect</td>\n",
       "      <td>Defect</td>\n",
       "      <td>No Defect</td>\n",
       "    </tr>\n",
       "  </tbody>\n",
       "</table>\n",
       "</div>"
      ],
      "text/plain": [
       "      actual     model1  model2     model3\n",
       "0  No Defect  No Defect  Defect  No Defect\n",
       "1  No Defect  No Defect  Defect     Defect\n",
       "2  No Defect  No Defect  Defect  No Defect\n",
       "3  No Defect     Defect  Defect     Defect\n",
       "4  No Defect  No Defect  Defect  No Defect"
      ]
     },
     "execution_count": 100,
     "metadata": {},
     "output_type": "execute_result"
    }
   ],
   "source": [
    "#import data\n",
    "ccc = pd.read_csv('c3.csv')\n",
    "ccc.head()"
   ]
  },
  {
   "cell_type": "markdown",
   "metadata": {},
   "source": [
    "- An internal team wants to investigate the cause of the manufacturing defects. They tell you that they want to identify as many of the ducks that have a defect as possible. Which evaluation metric would be appropriate here? Which model would be the best fit for this use case?"
   ]
  },
  {
   "cell_type": "code",
   "execution_count": 101,
   "metadata": {},
   "outputs": [
    {
     "name": "stdout",
     "output_type": "stream",
     "text": [
      "MODEL 1: \n",
      " actual     Defect  No Defect\n",
      "model1                      \n",
      "Defect          8          2\n",
      "No Defect       8        182 \n",
      "\n",
      "MODEL 2: \n",
      " actual     Defect  No Defect\n",
      "model2                      \n",
      "Defect          9         81\n",
      "No Defect       7        103 \n",
      "\n",
      "MODEL 3: \n",
      " actual     Defect  No Defect\n",
      "model3                      \n",
      "Defect         13         86\n",
      "No Defect       3         98 \n",
      "\n"
     ]
    }
   ],
   "source": [
    "# Evalutation metric: Sensitivity/Recall -- TP / (TP + FN) --\n",
    "\n",
    "#crosstab-confustion matrix for each model against the actual results\n",
    "m1 = pd.crosstab(ccc.model1, ccc.actual)\n",
    "m2 = pd.crosstab(ccc.model2, ccc.actual)\n",
    "m3 = pd.crosstab(ccc.model3, ccc.actual)\n",
    "\n",
    "print('MODEL 1: \\n', m1, '\\n')\n",
    "print('MODEL 2: \\n', m2, '\\n') \n",
    "print('MODEL 3: \\n', m3, '\\n')"
   ]
  },
  {
   "cell_type": "code",
   "execution_count": 102,
   "metadata": {},
   "outputs": [],
   "source": [
    "# Sensitivity/Recall: Model 1\n",
    "m1_P = m1['Defect'].sum()\n",
    "m1_tp = ((ccc.actual == 'Defect') & (ccc.model1 == 'Defect')).sum()\n",
    "m1_recall = m1_tp/(m1_P)"
   ]
  },
  {
   "cell_type": "code",
   "execution_count": 103,
   "metadata": {},
   "outputs": [],
   "source": [
    "# Sensitivity/Recall: Model 3\n",
    "m3_P = m3['Defect'].sum()\n",
    "m3_tp = ((ccc.actual == 'Defect') & (ccc.model3 == 'Defect')).sum()\n",
    "m3_recall = m3_tp/(m3_P)"
   ]
  },
  {
   "cell_type": "code",
   "execution_count": 104,
   "metadata": {},
   "outputs": [],
   "source": [
    "# Sensitivity/Recall: Model 2\n",
    "m2_P = m2['Defect'].sum()\n",
    "m2_tp = ((ccc.actual == 'Defect') & (ccc.model2 == 'Defect')).sum()\n",
    "m2_recall = m2_tp/(m2_P)"
   ]
  },
  {
   "cell_type": "code",
   "execution_count": 105,
   "metadata": {},
   "outputs": [
    {
     "name": "stdout",
     "output_type": "stream",
     "text": [
      "MODEL 1 recall: \n",
      " 0.5 \n",
      "\n",
      "MODEL 2 recall: \n",
      " 0.5625 \n",
      "\n",
      "MODEL 3 recall: \n",
      " 0.8125 \n",
      "\n"
     ]
    }
   ],
   "source": [
    "print('MODEL 1 recall: \\n', m1_recall, '\\n')\n",
    "print('MODEL 2 recall: \\n', m2_recall, '\\n') \n",
    "print('MODEL 3 recall: \\n', m3_recall, '\\n')"
   ]
  },
  {
   "cell_type": "code",
   "execution_count": 106,
   "metadata": {},
   "outputs": [],
   "source": [
    "# Using Recall, Model 3 would work best"
   ]
  },
  {
   "cell_type": "markdown",
   "metadata": {},
   "source": [
    "- Recently several stories in the local news have come out highlighting customers who received a rubber duck with a defect, and portraying C3 in a bad light. The PR team has decided to launch a program that gives customers with a defective duck a vacation to Hawaii. They need you to predict which ducks will have defects, but tell you the really don't want to accidentally give out a vacation package when the duck really doesn't have a defect. Which evaluation metric would be appropriate here? Which model would be the best fit for this use case?"
   ]
  },
  {
   "cell_type": "code",
   "execution_count": 107,
   "metadata": {},
   "outputs": [],
   "source": [
    "# False Positive: predict duck has defect when it really doesn't (2)\n",
    "# best model will have the least amount of FP and more TP\n",
    "# what metric will help? accuracy for sure, precision!"
   ]
  },
  {
   "cell_type": "code",
   "execution_count": 108,
   "metadata": {},
   "outputs": [
    {
     "name": "stdout",
     "output_type": "stream",
     "text": [
      "MODEL 1 precision: \n",
      " 0.8 \n",
      "\n",
      "MODEL 2 precision: \n",
      " 0.1 \n",
      "\n",
      "MODEL 3 precision: \n",
      " 0.13131313131313133 \n",
      "\n"
     ]
    }
   ],
   "source": [
    "# Precision: TP / (TP + FP)\n",
    "m1_fp = ((ccc.model1 == 'Defect') & (ccc.actual == 'No Defect')).sum()\n",
    "m2_fp = ((ccc.model2 == 'Defect') & (ccc.actual == 'No Defect')).sum()\n",
    "m3_fp = ((ccc.model3 == 'Defect') & (ccc.actual == 'No Defect')).sum()\n",
    "\n",
    "m1_precision = m1_tp/(m1_tp + m1_fp)\n",
    "m2_precision = m2_tp/(m2_tp + m2_fp)\n",
    "m3_precision = m3_tp/(m3_tp + m3_fp)\n",
    "\n",
    "print('MODEL 1 precision: \\n', m1_precision, '\\n')\n",
    "print('MODEL 2 precision: \\n', m2_precision, '\\n') \n",
    "print('MODEL 3 precision: \\n', m3_precision, '\\n')"
   ]
  },
  {
   "cell_type": "code",
   "execution_count": 109,
   "metadata": {},
   "outputs": [],
   "source": [
    "# Using precision, model 1 would work best"
   ]
  },
  {
   "cell_type": "markdown",
   "metadata": {},
   "source": [
    "3. You are working as a data scientist for Gives You Paws ™, a subscription based service that shows you cute pictures of dogs or cats (or both for an additional fee).\n",
    "\n",
    "    At Gives You Paws, anyone can upload pictures of their cats or dogs. The photos are then put through a two step process. First an automated algorithm tags pictures as either a cat or a dog (Phase I). Next, the photos that have been initially identified are put through another round of review, possibly with some human oversight, before being presented to the users (Phase II).\n",
    "\n",
    "    Several models have already been developed with the data, and you can find their results here."
   ]
  },
  {
   "cell_type": "code",
   "execution_count": 110,
   "metadata": {},
   "outputs": [],
   "source": [
    "paws = pd.read_csv('gives_you_paws.csv')"
   ]
  },
  {
   "cell_type": "markdown",
   "metadata": {},
   "source": [
    "Given this dataset, use pandas to create a baseline model (i.e. a model that just predicts the most common class) and answer the following questions:"
   ]
  },
  {
   "cell_type": "code",
   "execution_count": 111,
   "metadata": {},
   "outputs": [
    {
     "data": {
      "text/plain": [
       "dog    3254\n",
       "cat    1746\n",
       "Name: actual, dtype: int64"
      ]
     },
     "execution_count": 111,
     "metadata": {},
     "output_type": "execute_result"
    }
   ],
   "source": [
    "paws.actual.value_counts()"
   ]
  },
  {
   "cell_type": "code",
   "execution_count": 112,
   "metadata": {},
   "outputs": [
    {
     "data": {
      "text/html": [
       "<div>\n",
       "<style scoped>\n",
       "    .dataframe tbody tr th:only-of-type {\n",
       "        vertical-align: middle;\n",
       "    }\n",
       "\n",
       "    .dataframe tbody tr th {\n",
       "        vertical-align: top;\n",
       "    }\n",
       "\n",
       "    .dataframe thead th {\n",
       "        text-align: right;\n",
       "    }\n",
       "</style>\n",
       "<table border=\"1\" class=\"dataframe\">\n",
       "  <thead>\n",
       "    <tr style=\"text-align: right;\">\n",
       "      <th></th>\n",
       "      <th>actual</th>\n",
       "      <th>model1</th>\n",
       "      <th>model2</th>\n",
       "      <th>model3</th>\n",
       "      <th>model4</th>\n",
       "      <th>baseline_prediction</th>\n",
       "    </tr>\n",
       "  </thead>\n",
       "  <tbody>\n",
       "    <tr>\n",
       "      <th>0</th>\n",
       "      <td>cat</td>\n",
       "      <td>cat</td>\n",
       "      <td>dog</td>\n",
       "      <td>cat</td>\n",
       "      <td>dog</td>\n",
       "      <td>dog</td>\n",
       "    </tr>\n",
       "    <tr>\n",
       "      <th>1</th>\n",
       "      <td>dog</td>\n",
       "      <td>dog</td>\n",
       "      <td>cat</td>\n",
       "      <td>cat</td>\n",
       "      <td>dog</td>\n",
       "      <td>dog</td>\n",
       "    </tr>\n",
       "    <tr>\n",
       "      <th>2</th>\n",
       "      <td>dog</td>\n",
       "      <td>cat</td>\n",
       "      <td>cat</td>\n",
       "      <td>cat</td>\n",
       "      <td>dog</td>\n",
       "      <td>dog</td>\n",
       "    </tr>\n",
       "    <tr>\n",
       "      <th>3</th>\n",
       "      <td>dog</td>\n",
       "      <td>dog</td>\n",
       "      <td>dog</td>\n",
       "      <td>cat</td>\n",
       "      <td>dog</td>\n",
       "      <td>dog</td>\n",
       "    </tr>\n",
       "    <tr>\n",
       "      <th>4</th>\n",
       "      <td>cat</td>\n",
       "      <td>cat</td>\n",
       "      <td>cat</td>\n",
       "      <td>dog</td>\n",
       "      <td>dog</td>\n",
       "      <td>dog</td>\n",
       "    </tr>\n",
       "  </tbody>\n",
       "</table>\n",
       "</div>"
      ],
      "text/plain": [
       "  actual model1 model2 model3 model4 baseline_prediction\n",
       "0    cat    cat    dog    cat    dog                 dog\n",
       "1    dog    dog    cat    cat    dog                 dog\n",
       "2    dog    cat    cat    cat    dog                 dog\n",
       "3    dog    dog    dog    cat    dog                 dog\n",
       "4    cat    cat    cat    dog    dog                 dog"
      ]
     },
     "execution_count": 112,
     "metadata": {},
     "output_type": "execute_result"
    }
   ],
   "source": [
    "paws['baseline_prediction'] = 'dog'\n",
    "paws.head()"
   ]
  },
  {
   "cell_type": "markdown",
   "metadata": {},
   "source": [
    "   - In terms of accuracy, how do the various models compare to the baseline model? Are any of the models better than the baseline?"
   ]
  },
  {
   "cell_type": "code",
   "execution_count": 113,
   "metadata": {},
   "outputs": [],
   "source": [
    "baseline_accuracy = (paws.baseline_prediction == paws.actual).mean()"
   ]
  },
  {
   "cell_type": "code",
   "execution_count": 114,
   "metadata": {},
   "outputs": [],
   "source": [
    "m1_acc = (paws.model1 == paws.actual).mean()\n",
    "m2_acc = (paws.model2 == paws.actual).mean()\n",
    "m3_acc = (paws.model3 == paws.actual).mean()\n",
    "m4_acc = (paws.model4 == paws.actual).mean()"
   ]
  },
  {
   "cell_type": "code",
   "execution_count": 115,
   "metadata": {},
   "outputs": [
    {
     "name": "stdout",
     "output_type": "stream",
     "text": [
      "Baseline accuracy: \n",
      " 0.6508 \n",
      "\n",
      "MODEL 1 accuracy: \n",
      " 0.8074 \n",
      "\n",
      "MODEL 2 accuracy: \n",
      " 0.6304 \n",
      "\n",
      "MODEL 3 accuracy: \n",
      " 0.5096 \n",
      "\n",
      "MODEL 4 accuracy: \n",
      " 0.7426 \n",
      "\n"
     ]
    }
   ],
   "source": [
    "print('Baseline accuracy: \\n', baseline_accuracy, '\\n')\n",
    "print('MODEL 1 accuracy: \\n', m1_acc, '\\n')\n",
    "print('MODEL 2 accuracy: \\n', m2_acc, '\\n') \n",
    "print('MODEL 3 accuracy: \\n', m3_acc, '\\n')\n",
    "print('MODEL 4 accuracy: \\n', m4_acc, '\\n')"
   ]
  },
  {
   "cell_type": "code",
   "execution_count": 116,
   "metadata": {},
   "outputs": [],
   "source": [
    "# Model 1 and 4 are better than baseline"
   ]
  },
  {
   "cell_type": "markdown",
   "metadata": {},
   "source": [
    "   - Suppose you are working on a team that solely deals with dog pictures. Which of these models would you recomend for Phase I? For Phase II?"
   ]
  },
  {
   "cell_type": "code",
   "execution_count": 117,
   "metadata": {},
   "outputs": [
    {
     "name": "stdout",
     "output_type": "stream",
     "text": [
      "MODEL 1 precision: \n",
      " 0.8900238338440586 \n",
      "\n",
      "MODEL 2 precision: \n",
      " 0.8931767337807607 \n",
      "\n",
      "MODEL 3 precision: \n",
      " 0.6598883572567783 \n",
      "\n",
      "MODEL 4 precision: \n",
      " 0.7312485304490948 \n",
      "\n"
     ]
    }
   ],
   "source": [
    "#Phase 1: use model 1 for accuracy\n",
    "#Phase 2: use precision to get the best possible chances of dog pictures correctly (TP)\n",
    "\n",
    "# Precision: TP / (TP + FP)\n",
    "m1_fp = ((paws.model1 == 'dog') & (paws.actual == 'cat')).sum()\n",
    "m2_fp = ((paws.model2 == 'dog') & (paws.actual == 'cat')).sum()\n",
    "m3_fp = ((paws.model3 == 'dog') & (paws.actual == 'cat')).sum()\n",
    "m4_fp = ((paws.model4 == 'dog') & (paws.actual == 'cat')).sum()\n",
    "\n",
    "m1_tp = ((paws.model1 == 'dog') & (paws.actual == 'dog')).sum()\n",
    "m2_tp = ((paws.model2 == 'dog') & (paws.actual == 'dog')).sum()\n",
    "m3_tp = ((paws.model3 == 'dog') & (paws.actual == 'dog')).sum()\n",
    "m4_tp = ((paws.model4 == 'dog') & (paws.actual == 'dog')).sum()\n",
    "\n",
    "m1_precision = m1_tp/(m1_tp + m1_fp)\n",
    "m2_precision = m2_tp/(m2_tp + m2_fp)\n",
    "m3_precision = m3_tp/(m3_tp + m3_fp)\n",
    "m4_precision = m4_tp/(m4_tp + m4_fp)\n",
    "\n",
    "print('MODEL 1 precision: \\n', m1_precision, '\\n')\n",
    "print('MODEL 2 precision: \\n', m2_precision, '\\n') \n",
    "print('MODEL 3 precision: \\n', m3_precision, '\\n')\n",
    "print('MODEL 4 precision: \\n', m4_precision, '\\n')"
   ]
  },
  {
   "cell_type": "markdown",
   "metadata": {},
   "source": [
    "   - Suppose you are working on a team that solely deals with cat pictures. Which of these models would you recomend for Phase I? For Phase II?"
   ]
  },
  {
   "cell_type": "code",
   "execution_count": 118,
   "metadata": {},
   "outputs": [],
   "source": [
    "#Phase 1: use model 1 for accuracy\n",
    "#Phase 2: use model 4 for precision"
   ]
  },
  {
   "cell_type": "code",
   "execution_count": 150,
   "metadata": {},
   "outputs": [
    {
     "data": {
      "text/plain": [
       "(0.6897721764420747, 0.4841220423412204, 0.358346709470305, 0.8072289156626506)"
      ]
     },
     "execution_count": 150,
     "metadata": {},
     "output_type": "execute_result"
    }
   ],
   "source": [
    "prec1 = sklearn.metrics.precision_score(paws.actual, paws.model1, pos_label='cat')\n",
    "prec2 = sklearn.metrics.precision_score(paws.actual, paws.model2, pos_label='cat')\n",
    "prec3 = sklearn.metrics.precision_score(paws.actual, paws.model3, pos_label='cat')\n",
    "prec4 = sklearn.metrics.precision_score(paws.actual, paws.model4, pos_label='cat')\n",
    "prec1, prec2, prec3, prec4"
   ]
  },
  {
   "cell_type": "markdown",
   "metadata": {},
   "source": [
    "4. Follow the links below to read the documentation about each function, then apply those functions to the data from the previous problem.\n",
    "\n",
    "    - sklearn.metrics.accuracy_score\n",
    "    - sklearn.metrics.precision_score\n",
    "    - sklearn.metrics.recall_score\n",
    "    - sklearn.metrics.classification_report"
   ]
  },
  {
   "cell_type": "code",
   "execution_count": 125,
   "metadata": {},
   "outputs": [
    {
     "data": {
      "text/plain": [
       "(0.8074, 0.6304, 0.5096, 0.7426)"
      ]
     },
     "execution_count": 125,
     "metadata": {},
     "output_type": "execute_result"
    }
   ],
   "source": [
    "import sklearn\n",
    "from sklearn.metrics import accuracy_score\n",
    "\n",
    "acc1 = sklearn.metrics.accuracy_score(paws.actual, paws.model1)\n",
    "acc2 = sklearn.metrics.accuracy_score(paws.actual, paws.model2)\n",
    "acc3 = sklearn.metrics.accuracy_score(paws.actual, paws.model3)\n",
    "acc4 = sklearn.metrics.accuracy_score(paws.actual, paws.model4)\n",
    "acc1, acc2, acc3, acc4"
   ]
  },
  {
   "cell_type": "code",
   "execution_count": 135,
   "metadata": {},
   "outputs": [
    {
     "data": {
      "text/plain": [
       "(0.8900238338440586,\n",
       " 0.8931767337807607,\n",
       " 0.6598883572567783,\n",
       " 0.7312485304490948)"
      ]
     },
     "execution_count": 135,
     "metadata": {},
     "output_type": "execute_result"
    }
   ],
   "source": [
    "prec1 = sklearn.metrics.precision_score(paws.actual, paws.model1, pos_label='dog')\n",
    "prec2 = sklearn.metrics.precision_score(paws.actual, paws.model2, pos_label='dog')\n",
    "prec3 = sklearn.metrics.precision_score(paws.actual, paws.model3, pos_label='dog')\n",
    "prec4 = sklearn.metrics.precision_score(paws.actual, paws.model4, pos_label='dog')\n",
    "prec1, prec2, prec3, prec4"
   ]
  },
  {
   "cell_type": "code",
   "execution_count": 138,
   "metadata": {},
   "outputs": [
    {
     "data": {
      "text/plain": [
       "(0.803318992009834,\n",
       " 0.49078057775046097,\n",
       " 0.5086047940995697,\n",
       " 0.9557467732022127)"
      ]
     },
     "execution_count": 138,
     "metadata": {},
     "output_type": "execute_result"
    }
   ],
   "source": [
    "rec1 = sklearn.metrics.recall_score(paws.actual, paws.model1, pos_label='dog')\n",
    "rec2 = sklearn.metrics.recall_score(paws.actual, paws.model2, pos_label='dog')\n",
    "rec3 = sklearn.metrics.recall_score(paws.actual, paws.model3, pos_label='dog')\n",
    "rec4 = sklearn.metrics.recall_score(paws.actual, paws.model4, pos_label='dog')\n",
    "rec1, rec2, rec3, rec4"
   ]
  },
  {
   "cell_type": "code",
   "execution_count": 149,
   "metadata": {},
   "outputs": [
    {
     "name": "stdout",
     "output_type": "stream",
     "text": [
      "Model 1:               precision    recall  f1-score   support\n",
      "\n",
      "         dog       0.89      0.80      0.84      3254\n",
      "         cat       0.69      0.82      0.75      1746\n",
      "\n",
      "    accuracy                           0.81      5000\n",
      "   macro avg       0.79      0.81      0.80      5000\n",
      "weighted avg       0.82      0.81      0.81      5000\n",
      "\n",
      "Model 2:               precision    recall  f1-score   support\n",
      "\n",
      "         dog       0.89      0.49      0.63      3254\n",
      "         cat       0.48      0.89      0.63      1746\n",
      "\n",
      "    accuracy                           0.63      5000\n",
      "   macro avg       0.69      0.69      0.63      5000\n",
      "weighted avg       0.75      0.63      0.63      5000\n",
      "\n",
      "Model 3:               precision    recall  f1-score   support\n",
      "\n",
      "         dog       0.66      0.51      0.57      3254\n",
      "         cat       0.36      0.51      0.42      1746\n",
      "\n",
      "    accuracy                           0.51      5000\n",
      "   macro avg       0.51      0.51      0.50      5000\n",
      "weighted avg       0.55      0.51      0.52      5000\n",
      "\n",
      "Model 4:               precision    recall  f1-score   support\n",
      "\n",
      "         dog       0.73      0.96      0.83      3254\n",
      "         cat       0.81      0.35      0.48      1746\n",
      "\n",
      "    accuracy                           0.74      5000\n",
      "   macro avg       0.77      0.65      0.66      5000\n",
      "weighted avg       0.76      0.74      0.71      5000\n",
      "\n"
     ]
    }
   ],
   "source": [
    "clrp1 = sklearn.metrics.classification_report(paws.actual, paws.model1, labels=['dog', 'cat'])\n",
    "print('Model 1:', clrp1)\n",
    "clrp2 = sklearn.metrics.classification_report(paws.actual, paws.model2, labels=['dog', 'cat'])\n",
    "print('Model 2:', clrp2)\n",
    "clrp3 = sklearn.metrics.classification_report(paws.actual, paws.model3, labels=['dog', 'cat'])\n",
    "print('Model 3:', clrp3)\n",
    "clrp4 = sklearn.metrics.classification_report(paws.actual, paws.model4, labels=['dog', 'cat'])\n",
    "print('Model 4:', clrp4)"
   ]
  },
  {
   "cell_type": "code",
   "execution_count": null,
   "metadata": {},
   "outputs": [],
   "source": []
  }
 ],
 "metadata": {
  "kernelspec": {
   "display_name": "Python 3",
   "language": "python",
   "name": "python3"
  },
  "language_info": {
   "codemirror_mode": {
    "name": "ipython",
    "version": 3
   },
   "file_extension": ".py",
   "mimetype": "text/x-python",
   "name": "python",
   "nbconvert_exporter": "python",
   "pygments_lexer": "ipython3",
   "version": "3.7.6"
  }
 },
 "nbformat": 4,
 "nbformat_minor": 4
}
