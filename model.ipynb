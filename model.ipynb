{
 "cells": [
  {
   "cell_type": "code",
   "execution_count": 2,
   "metadata": {},
   "outputs": [],
   "source": [
    "import numpy as np\n",
    "import pandas as pd\n",
    "import seaborn as sns\n",
    "import matplotlib.pyplot as plt\n",
    "import statsmodels.formula.api as smf\n",
    "\n",
    "from sklearn.metrics import accuracy_score, precision_score, recall_score, confusion_matrix, classification_report\n",
    "from sklearn.model_selection import train_test_split\n",
    "from sklearn.linear_model import LogisticRegression, LinearRegression\n",
    "\n",
    "import warnings\n",
    "warnings.filterwarnings(\"ignore\")\n",
    "\n",
    "from acquire import get_titanic_data\n",
    "from prepare import prep_titanic"
   ]
  },
  {
   "cell_type": "markdown",
   "metadata": {},
   "source": [
    "# Logistic Regression"
   ]
  },
  {
   "cell_type": "markdown",
   "metadata": {},
   "source": [
    "1. Create another model that includes age in addition to fare and pclass. Does this model perform better than your previous one?"
   ]
  },
  {
   "cell_type": "code",
   "execution_count": 3,
   "metadata": {},
   "outputs": [
    {
     "data": {
      "text/html": [
       "<div>\n",
       "<style scoped>\n",
       "    .dataframe tbody tr th:only-of-type {\n",
       "        vertical-align: middle;\n",
       "    }\n",
       "\n",
       "    .dataframe tbody tr th {\n",
       "        vertical-align: top;\n",
       "    }\n",
       "\n",
       "    .dataframe thead th {\n",
       "        text-align: right;\n",
       "    }\n",
       "</style>\n",
       "<table border=\"1\" class=\"dataframe\">\n",
       "  <thead>\n",
       "    <tr style=\"text-align: right;\">\n",
       "      <th></th>\n",
       "      <th>passenger_id</th>\n",
       "      <th>survived</th>\n",
       "      <th>pclass</th>\n",
       "      <th>sex</th>\n",
       "      <th>age</th>\n",
       "      <th>sibsp</th>\n",
       "      <th>parch</th>\n",
       "      <th>fare</th>\n",
       "      <th>embarked</th>\n",
       "      <th>class</th>\n",
       "      <th>embark_town</th>\n",
       "      <th>alone</th>\n",
       "      <th>Q</th>\n",
       "      <th>S</th>\n",
       "    </tr>\n",
       "  </thead>\n",
       "  <tbody>\n",
       "    <tr>\n",
       "      <th>583</th>\n",
       "      <td>583</td>\n",
       "      <td>0</td>\n",
       "      <td>1</td>\n",
       "      <td>male</td>\n",
       "      <td>36.000000</td>\n",
       "      <td>0</td>\n",
       "      <td>0</td>\n",
       "      <td>40.1250</td>\n",
       "      <td>C</td>\n",
       "      <td>First</td>\n",
       "      <td>Cherbourg</td>\n",
       "      <td>1</td>\n",
       "      <td>0</td>\n",
       "      <td>0</td>\n",
       "    </tr>\n",
       "    <tr>\n",
       "      <th>337</th>\n",
       "      <td>337</td>\n",
       "      <td>1</td>\n",
       "      <td>1</td>\n",
       "      <td>female</td>\n",
       "      <td>41.000000</td>\n",
       "      <td>0</td>\n",
       "      <td>0</td>\n",
       "      <td>134.5000</td>\n",
       "      <td>C</td>\n",
       "      <td>First</td>\n",
       "      <td>Cherbourg</td>\n",
       "      <td>1</td>\n",
       "      <td>0</td>\n",
       "      <td>0</td>\n",
       "    </tr>\n",
       "    <tr>\n",
       "      <th>50</th>\n",
       "      <td>50</td>\n",
       "      <td>0</td>\n",
       "      <td>3</td>\n",
       "      <td>male</td>\n",
       "      <td>7.000000</td>\n",
       "      <td>4</td>\n",
       "      <td>1</td>\n",
       "      <td>39.6875</td>\n",
       "      <td>S</td>\n",
       "      <td>Third</td>\n",
       "      <td>Southampton</td>\n",
       "      <td>0</td>\n",
       "      <td>0</td>\n",
       "      <td>1</td>\n",
       "    </tr>\n",
       "    <tr>\n",
       "      <th>218</th>\n",
       "      <td>218</td>\n",
       "      <td>1</td>\n",
       "      <td>1</td>\n",
       "      <td>female</td>\n",
       "      <td>32.000000</td>\n",
       "      <td>0</td>\n",
       "      <td>0</td>\n",
       "      <td>76.2917</td>\n",
       "      <td>C</td>\n",
       "      <td>First</td>\n",
       "      <td>Cherbourg</td>\n",
       "      <td>1</td>\n",
       "      <td>0</td>\n",
       "      <td>0</td>\n",
       "    </tr>\n",
       "    <tr>\n",
       "      <th>31</th>\n",
       "      <td>31</td>\n",
       "      <td>1</td>\n",
       "      <td>1</td>\n",
       "      <td>female</td>\n",
       "      <td>29.916875</td>\n",
       "      <td>1</td>\n",
       "      <td>0</td>\n",
       "      <td>146.5208</td>\n",
       "      <td>C</td>\n",
       "      <td>First</td>\n",
       "      <td>Cherbourg</td>\n",
       "      <td>0</td>\n",
       "      <td>0</td>\n",
       "      <td>0</td>\n",
       "    </tr>\n",
       "  </tbody>\n",
       "</table>\n",
       "</div>"
      ],
      "text/plain": [
       "     passenger_id  survived  pclass     sex        age  sibsp  parch  \\\n",
       "583           583         0       1    male  36.000000      0      0   \n",
       "337           337         1       1  female  41.000000      0      0   \n",
       "50             50         0       3    male   7.000000      4      1   \n",
       "218           218         1       1  female  32.000000      0      0   \n",
       "31             31         1       1  female  29.916875      1      0   \n",
       "\n",
       "         fare embarked  class  embark_town  alone  Q  S  \n",
       "583   40.1250        C  First    Cherbourg      1  0  0  \n",
       "337  134.5000        C  First    Cherbourg      1  0  0  \n",
       "50    39.6875        S  Third  Southampton      0  0  1  \n",
       "218   76.2917        C  First    Cherbourg      1  0  0  \n",
       "31   146.5208        C  First    Cherbourg      0  0  0  "
      ]
     },
     "execution_count": 3,
     "metadata": {},
     "output_type": "execute_result"
    }
   ],
   "source": [
    "# prepped titanic data: train, validate, test samples\n",
    "\n",
    "train, validate, test = prep_titanic()\n",
    "train.head()"
   ]
  },
  {
   "cell_type": "code",
   "execution_count": 4,
   "metadata": {},
   "outputs": [
    {
     "name": "stdout",
     "output_type": "stream",
     "text": [
      "0    307\n",
      "1    190\n",
      "Name: survived, dtype: int64 \n",
      "\n",
      "Baseline Acccuracy: 0.6177062374245473\n"
     ]
    }
   ],
   "source": [
    "# baseline model: not survived is most common\n",
    "survived = train.survived.value_counts()\n",
    "print(survived, '\\n')\n",
    "\n",
    "# died/total passengers (accuracy)\n",
    "baseline_accuracy = survived[0]/survived.sum()\n",
    "print('Baseline Acccuracy:', baseline_accuracy)"
   ]
  },
  {
   "cell_type": "code",
   "execution_count": 5,
   "metadata": {},
   "outputs": [
    {
     "name": "stdout",
     "output_type": "stream",
     "text": [
      "Coefficient: \n",
      " [[-0.03051881  0.00266519 -0.97983178]]\n",
      "Intercept: \n",
      " [2.52970125]\n"
     ]
    }
   ],
   "source": [
    "# MODEL 1: includes age, pclass, fare\n",
    "\n",
    "# A. create model object\n",
    "logit = LogisticRegression(C=1, class_weight=None, random_state=123)\n",
    "\n",
    "# B. split each sample into an X DataFrame and a Y Series\n",
    "X_train = train[['age', 'fare', 'pclass']]\n",
    "Y_train = train.survived\n",
    "\n",
    "X_validate = validate[['age', 'fare', 'pclass']]\n",
    "Y_validate = validate.survived\n",
    "\n",
    "X_test = test[['age', 'fare', 'pclass']]\n",
    "Y_test = test.survived\n",
    "\n",
    "# C. Fit to X and Y train\n",
    "logit = logit.fit(X_train, Y_train)\n",
    "\n",
    "print('Coefficient: \\n', logit.coef_)\n",
    "print('Intercept: \\n', logit.intercept_)"
   ]
  },
  {
   "cell_type": "code",
   "execution_count": 6,
   "metadata": {},
   "outputs": [
    {
     "name": "stdout",
     "output_type": "stream",
     "text": [
      "Accuracy:  0.716297786720322 \n",
      "\n",
      "[[265  42]\n",
      " [ 99  91]]\n",
      "              precision    recall  f1-score   support\n",
      "\n",
      "           0       0.73      0.86      0.79       307\n",
      "           1       0.68      0.48      0.56       190\n",
      "\n",
      "    accuracy                           0.72       497\n",
      "   macro avg       0.71      0.67      0.68       497\n",
      "weighted avg       0.71      0.72      0.70       497\n",
      "\n"
     ]
    }
   ],
   "source": [
    "#D. Predict Values on X_train\n",
    "y_pred = logit.predict(X_train)\n",
    "y_pred_proba = logit.predict_proba(X_train)\n",
    "\n",
    "#accuracy\n",
    "print('Accuracy: ', logit.score(X_train, Y_train), '\\n')\n",
    "\n",
    "#confusion matrix\n",
    "print(confusion_matrix(Y_train, y_pred))\n",
    "\n",
    "#classification report\n",
    "print(classification_report(Y_train, y_pred))"
   ]
  },
  {
   "cell_type": "markdown",
   "metadata": {},
   "source": [
    "2. Include sex in your model as well. Note that you'll need to encode or create a dummy variable of this feature before including it in a model."
   ]
  },
  {
   "cell_type": "code",
   "execution_count": 7,
   "metadata": {},
   "outputs": [
    {
     "data": {
      "text/html": [
       "<div>\n",
       "<style scoped>\n",
       "    .dataframe tbody tr th:only-of-type {\n",
       "        vertical-align: middle;\n",
       "    }\n",
       "\n",
       "    .dataframe tbody tr th {\n",
       "        vertical-align: top;\n",
       "    }\n",
       "\n",
       "    .dataframe thead th {\n",
       "        text-align: right;\n",
       "    }\n",
       "</style>\n",
       "<table border=\"1\" class=\"dataframe\">\n",
       "  <thead>\n",
       "    <tr style=\"text-align: right;\">\n",
       "      <th></th>\n",
       "      <th>passenger_id</th>\n",
       "      <th>survived</th>\n",
       "      <th>pclass</th>\n",
       "      <th>sex</th>\n",
       "      <th>age</th>\n",
       "      <th>sibsp</th>\n",
       "      <th>parch</th>\n",
       "      <th>fare</th>\n",
       "      <th>embarked</th>\n",
       "      <th>class</th>\n",
       "      <th>embark_town</th>\n",
       "      <th>alone</th>\n",
       "      <th>Q</th>\n",
       "      <th>S</th>\n",
       "      <th>sex_male</th>\n",
       "    </tr>\n",
       "  </thead>\n",
       "  <tbody>\n",
       "    <tr>\n",
       "      <th>583</th>\n",
       "      <td>583</td>\n",
       "      <td>0</td>\n",
       "      <td>1</td>\n",
       "      <td>male</td>\n",
       "      <td>36.000000</td>\n",
       "      <td>0</td>\n",
       "      <td>0</td>\n",
       "      <td>40.1250</td>\n",
       "      <td>C</td>\n",
       "      <td>First</td>\n",
       "      <td>Cherbourg</td>\n",
       "      <td>1</td>\n",
       "      <td>0</td>\n",
       "      <td>0</td>\n",
       "      <td>1</td>\n",
       "    </tr>\n",
       "    <tr>\n",
       "      <th>337</th>\n",
       "      <td>337</td>\n",
       "      <td>1</td>\n",
       "      <td>1</td>\n",
       "      <td>female</td>\n",
       "      <td>41.000000</td>\n",
       "      <td>0</td>\n",
       "      <td>0</td>\n",
       "      <td>134.5000</td>\n",
       "      <td>C</td>\n",
       "      <td>First</td>\n",
       "      <td>Cherbourg</td>\n",
       "      <td>1</td>\n",
       "      <td>0</td>\n",
       "      <td>0</td>\n",
       "      <td>0</td>\n",
       "    </tr>\n",
       "    <tr>\n",
       "      <th>50</th>\n",
       "      <td>50</td>\n",
       "      <td>0</td>\n",
       "      <td>3</td>\n",
       "      <td>male</td>\n",
       "      <td>7.000000</td>\n",
       "      <td>4</td>\n",
       "      <td>1</td>\n",
       "      <td>39.6875</td>\n",
       "      <td>S</td>\n",
       "      <td>Third</td>\n",
       "      <td>Southampton</td>\n",
       "      <td>0</td>\n",
       "      <td>0</td>\n",
       "      <td>1</td>\n",
       "      <td>1</td>\n",
       "    </tr>\n",
       "    <tr>\n",
       "      <th>218</th>\n",
       "      <td>218</td>\n",
       "      <td>1</td>\n",
       "      <td>1</td>\n",
       "      <td>female</td>\n",
       "      <td>32.000000</td>\n",
       "      <td>0</td>\n",
       "      <td>0</td>\n",
       "      <td>76.2917</td>\n",
       "      <td>C</td>\n",
       "      <td>First</td>\n",
       "      <td>Cherbourg</td>\n",
       "      <td>1</td>\n",
       "      <td>0</td>\n",
       "      <td>0</td>\n",
       "      <td>0</td>\n",
       "    </tr>\n",
       "    <tr>\n",
       "      <th>31</th>\n",
       "      <td>31</td>\n",
       "      <td>1</td>\n",
       "      <td>1</td>\n",
       "      <td>female</td>\n",
       "      <td>29.916875</td>\n",
       "      <td>1</td>\n",
       "      <td>0</td>\n",
       "      <td>146.5208</td>\n",
       "      <td>C</td>\n",
       "      <td>First</td>\n",
       "      <td>Cherbourg</td>\n",
       "      <td>0</td>\n",
       "      <td>0</td>\n",
       "      <td>0</td>\n",
       "      <td>0</td>\n",
       "    </tr>\n",
       "  </tbody>\n",
       "</table>\n",
       "</div>"
      ],
      "text/plain": [
       "     passenger_id  survived  pclass     sex        age  sibsp  parch  \\\n",
       "583           583         0       1    male  36.000000      0      0   \n",
       "337           337         1       1  female  41.000000      0      0   \n",
       "50             50         0       3    male   7.000000      4      1   \n",
       "218           218         1       1  female  32.000000      0      0   \n",
       "31             31         1       1  female  29.916875      1      0   \n",
       "\n",
       "         fare embarked  class  embark_town  alone  Q  S  sex_male  \n",
       "583   40.1250        C  First    Cherbourg      1  0  0         1  \n",
       "337  134.5000        C  First    Cherbourg      1  0  0         0  \n",
       "50    39.6875        S  Third  Southampton      0  0  1         1  \n",
       "218   76.2917        C  First    Cherbourg      1  0  0         0  \n",
       "31   146.5208        C  First    Cherbourg      0  0  0         0  "
      ]
     },
     "execution_count": 7,
     "metadata": {},
     "output_type": "execute_result"
    }
   ],
   "source": [
    "# create dummy variable for sex as is_male\n",
    "train_dummies = pd.get_dummies(train[['sex']], drop_first=True)\n",
    "train = pd.concat([train, train_dummies], axis=1)\n",
    "\n",
    "validate_dummies = pd.get_dummies(validate[['sex']], drop_first=True)\n",
    "validate = pd.concat([validate, validate_dummies], axis=1)\n",
    "\n",
    "test_dummies = pd.get_dummies(test[['sex']], drop_first=True)\n",
    "test = pd.concat([test, test_dummies], axis=1)\n",
    "\n",
    "train.head()"
   ]
  },
  {
   "cell_type": "code",
   "execution_count": 8,
   "metadata": {},
   "outputs": [
    {
     "name": "stdout",
     "output_type": "stream",
     "text": [
      "Coefficient: \n",
      " [[-2.66594879e-02  9.02716903e-04 -1.11402368e+00 -2.45878213e+00]]\n",
      "Intercept: \n",
      " [4.30664987]\n"
     ]
    }
   ],
   "source": [
    "# MODEL 2: includes age, pclass, fare, sex\n",
    "\n",
    "# A. create model object\n",
    "logit2 = LogisticRegression(C=1, class_weight=None, random_state=123)\n",
    "\n",
    "# B. split each sample into an X DataFrame and a Y Series\n",
    "X_train2 = train[['age', 'fare', 'pclass', 'sex_male']]\n",
    "Y_train2 = train.survived\n",
    "\n",
    "X_validate2 = validate[['age', 'fare', 'pclass', 'sex_male']]\n",
    "Y_validate2 = validate.survived\n",
    "\n",
    "X_test2 = test[['age', 'fare', 'pclass', 'sex_male']]\n",
    "Y_test2 = test.survived\n",
    "\n",
    "# C. Fit to X and Y train\n",
    "logit2 = logit2.fit(X_train2, Y_train2)\n",
    "\n",
    "print('Coefficient: \\n', logit2.coef_)\n",
    "print('Intercept: \\n', logit2.intercept_)"
   ]
  },
  {
   "cell_type": "code",
   "execution_count": 9,
   "metadata": {},
   "outputs": [
    {
     "name": "stdout",
     "output_type": "stream",
     "text": [
      "Accuracy:  0.7987927565392354 \n",
      "\n",
      "[[263  44]\n",
      " [ 56 134]]\n",
      "              precision    recall  f1-score   support\n",
      "\n",
      "           0       0.82      0.86      0.84       307\n",
      "           1       0.75      0.71      0.73       190\n",
      "\n",
      "    accuracy                           0.80       497\n",
      "   macro avg       0.79      0.78      0.78       497\n",
      "weighted avg       0.80      0.80      0.80       497\n",
      "\n"
     ]
    }
   ],
   "source": [
    "#D. Predict Values on X_train\n",
    "y_pred2 = logit2.predict(X_train2)\n",
    "y_pred_proba2 = logit2.predict_proba(X_train2)\n",
    "\n",
    "#accuracy\n",
    "print('Accuracy: ', logit2.score(X_train2, Y_train2), '\\n')\n",
    "\n",
    "#confusion matrix\n",
    "print(confusion_matrix(Y_train2, y_pred2))\n",
    "\n",
    "#classification report\n",
    "print(classification_report(Y_train2, y_pred2))"
   ]
  },
  {
   "cell_type": "markdown",
   "metadata": {},
   "source": [
    "3. Try out other combinations of features and models."
   ]
  },
  {
   "cell_type": "code",
   "execution_count": 10,
   "metadata": {},
   "outputs": [
    {
     "name": "stdout",
     "output_type": "stream",
     "text": [
      "Coefficient: \n",
      " [[-2.55633270e-02  5.53491876e-04 -1.10859199e+00 -2.41546062e+00\n",
      "  -1.58214588e-01]]\n",
      "Intercept: \n",
      " [4.33705386]\n"
     ]
    }
   ],
   "source": [
    "# MODEL 3: includes age, pclass, fare, sex, and alone\n",
    "\n",
    "# A. create model object\n",
    "logit3 = LogisticRegression(C=1, class_weight=None, random_state=123)\n",
    "\n",
    "# B. split each sample into an X DataFrame and a Y Series\n",
    "X_train3 = train[['age', 'fare', 'pclass', 'sex_male', 'alone']]\n",
    "Y_train3 = train.survived\n",
    "\n",
    "X_validate3 = validate[['age', 'fare', 'pclass', 'sex_male', 'alone']]\n",
    "Y_validate3 = validate.survived\n",
    "\n",
    "X_test3 = test[['age', 'fare', 'pclass', 'sex_male', 'alone']]\n",
    "Y_test3 = test.survived\n",
    "\n",
    "# C. Fit to X and Y train\n",
    "logit3 = logit3.fit(X_train3, Y_train3)\n",
    "\n",
    "print('Coefficient: \\n', logit3.coef_)\n",
    "print('Intercept: \\n', logit3.intercept_)"
   ]
  },
  {
   "cell_type": "code",
   "execution_count": 11,
   "metadata": {
    "scrolled": true
   },
   "outputs": [
    {
     "name": "stdout",
     "output_type": "stream",
     "text": [
      "Accuracy:  0.7967806841046278 \n",
      "\n",
      "[[263  44]\n",
      " [ 57 133]]\n",
      "              precision    recall  f1-score   support\n",
      "\n",
      "           0       0.82      0.86      0.84       307\n",
      "           1       0.75      0.70      0.72       190\n",
      "\n",
      "    accuracy                           0.80       497\n",
      "   macro avg       0.79      0.78      0.78       497\n",
      "weighted avg       0.79      0.80      0.80       497\n",
      "\n"
     ]
    }
   ],
   "source": [
    "#D. Predict Values on X_train\n",
    "y_pred3 = logit3.predict(X_train3)\n",
    "y_pred_proba3 = logit3.predict_proba(X_train3)\n",
    "\n",
    "#accuracy\n",
    "print('Accuracy: ', logit3.score(X_train3, Y_train3), '\\n')\n",
    "\n",
    "#confusion matrix\n",
    "print(confusion_matrix(Y_train3, y_pred3))\n",
    "\n",
    "#classification report\n",
    "print(classification_report(Y_train3, y_pred3))"
   ]
  },
  {
   "cell_type": "markdown",
   "metadata": {},
   "source": [
    "4. Use you best 3 models to predict and evaluate on your validate sample."
   ]
  },
  {
   "cell_type": "code",
   "execution_count": 12,
   "metadata": {},
   "outputs": [
    {
     "name": "stdout",
     "output_type": "stream",
     "text": [
      "model 1\n",
      " 0.7289719626168224\n",
      "model 2\n",
      " 0.7850467289719626\n",
      "model 3\n",
      " 0.7850467289719626\n"
     ]
    }
   ],
   "source": [
    "# Validate Accuracy\n",
    "y_pred = logit.predict(X_validate)\n",
    "y_pred2 = logit2.predict(X_validate2)\n",
    "y_pred3 = logit3.predict(X_validate3)\n",
    "\n",
    "print(\"model 1\\n\", logit.score(X_validate, Y_validate))\n",
    "print(\"model 2\\n\", logit2.score(X_validate2, Y_validate2))\n",
    "print(\"model 3\\n\", logit3.score(X_validate3, Y_validate3))"
   ]
  },
  {
   "cell_type": "code",
   "execution_count": 13,
   "metadata": {},
   "outputs": [
    {
     "name": "stdout",
     "output_type": "stream",
     "text": [
      "model 1\n",
      " [[116  16]\n",
      " [ 42  40]]\n",
      "model 2\n",
      " [[111  21]\n",
      " [ 25  57]]\n",
      "model 3\n",
      " [[110  22]\n",
      " [ 24  58]]\n"
     ]
    }
   ],
   "source": [
    "# Validate Confusion Matrix\n",
    "print(\"model 1\\n\", confusion_matrix(Y_validate, y_pred))\n",
    "print(\"model 2\\n\", confusion_matrix(Y_validate2, y_pred2))\n",
    "print(\"model 3\\n\", confusion_matrix(Y_validate3, y_pred3))"
   ]
  },
  {
   "cell_type": "code",
   "execution_count": 14,
   "metadata": {},
   "outputs": [
    {
     "name": "stdout",
     "output_type": "stream",
     "text": [
      "model 1\n",
      "               precision    recall  f1-score   support\n",
      "\n",
      "           0       0.73      0.88      0.80       132\n",
      "           1       0.71      0.49      0.58        82\n",
      "\n",
      "    accuracy                           0.73       214\n",
      "   macro avg       0.72      0.68      0.69       214\n",
      "weighted avg       0.73      0.73      0.72       214\n",
      "\n",
      "model 2\n",
      "               precision    recall  f1-score   support\n",
      "\n",
      "           0       0.82      0.84      0.83       132\n",
      "           1       0.73      0.70      0.71        82\n",
      "\n",
      "    accuracy                           0.79       214\n",
      "   macro avg       0.77      0.77      0.77       214\n",
      "weighted avg       0.78      0.79      0.78       214\n",
      "\n",
      "model 3\n",
      "               precision    recall  f1-score   support\n",
      "\n",
      "           0       0.82      0.83      0.83       132\n",
      "           1       0.72      0.71      0.72        82\n",
      "\n",
      "    accuracy                           0.79       214\n",
      "   macro avg       0.77      0.77      0.77       214\n",
      "weighted avg       0.78      0.79      0.78       214\n",
      "\n"
     ]
    }
   ],
   "source": [
    "# Validate Classification Report\n",
    "print(\"model 1\\n\", classification_report(Y_validate, y_pred))\n",
    "print(\"model 2\\n\", classification_report(Y_validate2, y_pred2))\n",
    "print(\"model 3\\n\", classification_report(Y_validate3, y_pred3))"
   ]
  },
  {
   "cell_type": "markdown",
   "metadata": {},
   "source": [
    "5. Choose you best model from the validation performation, and evaluate it on the test dataset. How do the performance metrics compare to validate? to train?"
   ]
  },
  {
   "cell_type": "code",
   "execution_count": 15,
   "metadata": {},
   "outputs": [
    {
     "name": "stdout",
     "output_type": "stream",
     "text": [
      "Model 3: solver = lbfgs, c = 1\n",
      "Accuracy: 0.81\n",
      "[[92 18]\n",
      " [16 52]]\n",
      "              precision    recall  f1-score   support\n",
      "\n",
      "           0       0.85      0.84      0.84       110\n",
      "           1       0.74      0.76      0.75        68\n",
      "\n",
      "    accuracy                           0.81       178\n",
      "   macro avg       0.80      0.80      0.80       178\n",
      "weighted avg       0.81      0.81      0.81       178\n",
      "\n"
     ]
    }
   ],
   "source": [
    "y_pred3 = logit3.predict(X_test3)\n",
    "y_pred_proba3 = logit3.predict_proba(X_test3)\n",
    "\n",
    "print(\"Model 3: solver = lbfgs, c = 1\")\n",
    "\n",
    "print('Accuracy: {:.2f}'.format(logit3.score(X_test3, Y_test3)))\n",
    "\n",
    "print(confusion_matrix(Y_test3, y_pred3))\n",
    "\n",
    "print(classification_report(Y_test, y_pred3))"
   ]
  },
  {
   "cell_type": "markdown",
   "metadata": {},
   "source": [
    "# Decision Trees"
   ]
  },
  {
   "cell_type": "code",
   "execution_count": 17,
   "metadata": {},
   "outputs": [],
   "source": [
    "from sklearn.model_selection import train_test_split\n",
    "from sklearn.tree import DecisionTreeClassifier\n",
    "from sklearn.tree import export_graphviz\n",
    "from sklearn.metrics import classification_report\n",
    "from sklearn.metrics import confusion_matrix"
   ]
  },
  {
   "cell_type": "markdown",
   "metadata": {},
   "source": [
    "1. Fit the decision tree classifier to your training sample and transform (i.e. make predictions on the training sample)"
   ]
  },
  {
   "cell_type": "code",
   "execution_count": 45,
   "metadata": {},
   "outputs": [],
   "source": [
    "X_train = train.drop(columns=['passenger_id', 'sex', 'embark_town', 'embarked', 'class', 'survived'])\n",
    "y_train = train[['survived']]"
   ]
  },
  {
   "cell_type": "code",
   "execution_count": 62,
   "metadata": {},
   "outputs": [
    {
     "data": {
      "text/plain": [
       "(DecisionTreeClassifier(ccp_alpha=0.0, class_weight=None, criterion='gini',\n",
       "                        max_depth=3, max_features=None, max_leaf_nodes=None,\n",
       "                        min_impurity_decrease=0.0, min_impurity_split=None,\n",
       "                        min_samples_leaf=1, min_samples_split=2,\n",
       "                        min_weight_fraction_leaf=0.0, presort='deprecated',\n",
       "                        random_state=123, splitter='best'),\n",
       " array([0, 1, 0, 1, 1]),\n",
       " array([[0.51666667, 0.48333333],\n",
       "        [0.0326087 , 0.9673913 ],\n",
       "        [0.88      , 0.12      ],\n",
       "        [0.0326087 , 0.9673913 ],\n",
       "        [0.0326087 , 0.9673913 ]]))"
      ]
     },
     "execution_count": 62,
     "metadata": {},
     "output_type": "execute_result"
    }
   ],
   "source": [
    "# Decision Tree Object\n",
    "clf = DecisionTreeClassifier(max_depth=3, random_state=123)\n",
    "\n",
    "# Fit model to training data\n",
    "clf = clf.fit(X_train, y_train)\n",
    "\n",
    "#Estimate Survived\n",
    "y_pred = clf.predict(X_train)\n",
    "\n",
    "# Estimate probability of survived\n",
    "y_pred_proba = clf.predict_proba(X_train)\n",
    "\n",
    "clf, y_pred[:5], y_pred_proba[:5]"
   ]
  },
  {
   "cell_type": "markdown",
   "metadata": {},
   "source": [
    "2. Evaluate your in-sample results using the model score, confusion matrix, and classification report."
   ]
  },
  {
   "cell_type": "code",
   "execution_count": 103,
   "metadata": {},
   "outputs": [],
   "source": [
    "# Compute Accuracy\n",
    "acc = round(clf.score(X_train, y_train),2)\n",
    "\n",
    "# Create Confustion Matrix\n",
    "labels = sorted(y_train.survived.unique())\n",
    "\n",
    "cm = pd.DataFrame(confusion_matrix(y_train, y_pred), index=labels, columns=labels)"
   ]
  },
  {
   "cell_type": "code",
   "execution_count": 117,
   "metadata": {},
   "outputs": [],
   "source": [
    "TP = cm[0][0]\n",
    "FN = cm[0][1]\n",
    "FP = cm[1][0]\n",
    "TN = cm[1][1]\n",
    "\n",
    "TPR = TP/(TP+FN)\n",
    "FPR = FP/(FP+TN)\n",
    "TNR = TN/(TN+FP)\n",
    "FNR = FN/(FN+TP)\n",
    "\n",
    "# Create Classification Report\n",
    "cr = classification_report(y_train, y_pred)"
   ]
  },
  {
   "cell_type": "markdown",
   "metadata": {},
   "source": [
    "3. Print and clearly label the following: Accuracy, true positive rate, false positive rate, true negative rate, false negative rate, precision, recall, f1-score, and support."
   ]
  },
  {
   "cell_type": "code",
   "execution_count": 118,
   "metadata": {},
   "outputs": [
    {
     "name": "stdout",
     "output_type": "stream",
     "text": [
      "Accuracy:  0.82 \n",
      "\n",
      "True Positive Rate:  0.8181818181818182 \n",
      "\n",
      "False Positive Rate:  0.1794871794871795 \n",
      "\n",
      "True Negative Rate:  0.8205128205128205 \n",
      "\n",
      "False Negative Rate:  0.18181818181818182 \n",
      "\n",
      "Classification Report: \n",
      "               precision    recall  f1-score   support\n",
      "\n",
      "           0       0.82      0.91      0.86       307\n",
      "           1       0.82      0.67      0.74       190\n",
      "\n",
      "    accuracy                           0.82       497\n",
      "   macro avg       0.82      0.79      0.80       497\n",
      "weighted avg       0.82      0.82      0.81       497\n",
      "\n",
      "Confustion Matrix: \n",
      "      0    1\n",
      "0  279   28\n",
      "1   62  128\n"
     ]
    }
   ],
   "source": [
    "print('Accuracy: ', acc, '\\n')\n",
    "print('True Positive Rate: ', TPR,  '\\n')\n",
    "print('False Positive Rate: ', FPR, '\\n')\n",
    "print('True Negative Rate: ', TNR, '\\n')\n",
    "print('False Negative Rate: ', FNR, '\\n')\n",
    "print('Classification Report: \\n', cr)\n",
    "print('Confustion Matrix: \\n', cm)"
   ]
  },
  {
   "cell_type": "markdown",
   "metadata": {},
   "source": [
    "4. Run through steps 2-4 using a different max_depth value."
   ]
  },
  {
   "cell_type": "code",
   "execution_count": 127,
   "metadata": {},
   "outputs": [
    {
     "data": {
      "text/plain": [
       "(DecisionTreeClassifier(ccp_alpha=0.0, class_weight=None, criterion='gini',\n",
       "                        max_depth=5, max_features=None, max_leaf_nodes=None,\n",
       "                        min_impurity_decrease=0.0, min_impurity_split=None,\n",
       "                        min_samples_leaf=1, min_samples_split=2,\n",
       "                        min_weight_fraction_leaf=0.0, presort='deprecated',\n",
       "                        random_state=123, splitter='best'),\n",
       " array([0, 1, 0, 1, 1]),\n",
       " array([[0.60416667, 0.39583333],\n",
       "        [0.        , 1.        ],\n",
       "        [0.87777778, 0.12222222],\n",
       "        [0.        , 1.        ],\n",
       "        [0.        , 1.        ]]))"
      ]
     },
     "execution_count": 127,
     "metadata": {},
     "output_type": "execute_result"
    }
   ],
   "source": [
    "# Decision Tree Object\n",
    "clf2 = DecisionTreeClassifier(max_depth=5, random_state=123)\n",
    "\n",
    "# Fit model to training data\n",
    "clf2 = clf2.fit(X_train, y_train)\n",
    "\n",
    "#Estimate Survived\n",
    "y_pred2 = clf2.predict(X_train)\n",
    "\n",
    "# Estimate probability of survived\n",
    "y_pred_proba2 = clf2.predict_proba(X_train)\n",
    "\n",
    "clf2, y_pred2[:5], y_pred_proba2[:5]"
   ]
  },
  {
   "cell_type": "code",
   "execution_count": 128,
   "metadata": {},
   "outputs": [
    {
     "data": {
      "text/html": [
       "<div>\n",
       "<style scoped>\n",
       "    .dataframe tbody tr th:only-of-type {\n",
       "        vertical-align: middle;\n",
       "    }\n",
       "\n",
       "    .dataframe tbody tr th {\n",
       "        vertical-align: top;\n",
       "    }\n",
       "\n",
       "    .dataframe thead th {\n",
       "        text-align: right;\n",
       "    }\n",
       "</style>\n",
       "<table border=\"1\" class=\"dataframe\">\n",
       "  <thead>\n",
       "    <tr style=\"text-align: right;\">\n",
       "      <th></th>\n",
       "      <th>0</th>\n",
       "      <th>1</th>\n",
       "    </tr>\n",
       "  </thead>\n",
       "  <tbody>\n",
       "    <tr>\n",
       "      <th>0</th>\n",
       "      <td>285</td>\n",
       "      <td>22</td>\n",
       "    </tr>\n",
       "    <tr>\n",
       "      <th>1</th>\n",
       "      <td>49</td>\n",
       "      <td>141</td>\n",
       "    </tr>\n",
       "  </tbody>\n",
       "</table>\n",
       "</div>"
      ],
      "text/plain": [
       "     0    1\n",
       "0  285   22\n",
       "1   49  141"
      ]
     },
     "execution_count": 128,
     "metadata": {},
     "output_type": "execute_result"
    }
   ],
   "source": [
    "# Compute Accuracy\n",
    "acc2 = round(clf2.score(X_train, y_train),2)\n",
    "\n",
    "# Create Confustion Matrix\n",
    "labels2 = sorted(y_train.survived.unique())\n",
    "\n",
    "cm2 = pd.DataFrame(confusion_matrix(y_train, y_pred2), index=labels, columns=labels)\n",
    "cm2"
   ]
  },
  {
   "cell_type": "code",
   "execution_count": 129,
   "metadata": {},
   "outputs": [],
   "source": [
    "TP2 = cm2[0][0]\n",
    "FN2 = cm2[0][1]\n",
    "FP2 = cm2[1][0]\n",
    "TN2 = cm2[1][1]\n",
    "\n",
    "TPR2 = TP2/(TP2+FN2)\n",
    "FPR2 = FP2/(FP2+TN2)\n",
    "TNR2 = TN2/(TN2+FP2)\n",
    "FNR2 = FN2/(FN2+TP2)\n",
    "\n",
    "# Create Classification Report\n",
    "cr2 = classification_report(y_train, y_pred2)"
   ]
  },
  {
   "cell_type": "code",
   "execution_count": 130,
   "metadata": {},
   "outputs": [
    {
     "name": "stdout",
     "output_type": "stream",
     "text": [
      "Accuracy 2:  0.86 \n",
      "\n",
      "True Positive Rate 2:  0.8532934131736527 \n",
      "\n",
      "False Positive Rate 2:  0.13496932515337423 \n",
      "\n",
      "True Negative Rate 2:  0.8650306748466258 \n",
      "\n",
      "False Negative Rate 2:  0.1467065868263473 \n",
      "\n",
      "Classification Report 2: \n",
      "               precision    recall  f1-score   support\n",
      "\n",
      "           0       0.85      0.93      0.89       307\n",
      "           1       0.87      0.74      0.80       190\n",
      "\n",
      "    accuracy                           0.86       497\n",
      "   macro avg       0.86      0.84      0.84       497\n",
      "weighted avg       0.86      0.86      0.85       497\n",
      "\n",
      "Confustion Matrix 2: \n",
      "      0    1\n",
      "0  285   22\n",
      "1   49  141\n"
     ]
    }
   ],
   "source": [
    "print('Accuracy 2: ', acc2, '\\n'),\n",
    "print('True Positive Rate 2: ', TPR2,  '\\n')\n",
    "print('False Positive Rate 2: ', FPR2, '\\n')\n",
    "print('True Negative Rate 2: ', TNR2, '\\n')\n",
    "print('False Negative Rate 2: ', FNR2, '\\n')\n",
    "print('Classification Report 2: \\n', cr2),\n",
    "print('Confustion Matrix 2: \\n', cm2)"
   ]
  },
  {
   "cell_type": "markdown",
   "metadata": {},
   "source": [
    "5. Which performs better on your in-sample data?"
   ]
  },
  {
   "cell_type": "code",
   "execution_count": 167,
   "metadata": {},
   "outputs": [
    {
     "data": {
      "text/html": [
       "<div>\n",
       "<style scoped>\n",
       "    .dataframe tbody tr th:only-of-type {\n",
       "        vertical-align: middle;\n",
       "    }\n",
       "\n",
       "    .dataframe tbody tr th {\n",
       "        vertical-align: top;\n",
       "    }\n",
       "\n",
       "    .dataframe thead th {\n",
       "        text-align: right;\n",
       "    }\n",
       "</style>\n",
       "<table border=\"1\" class=\"dataframe\">\n",
       "  <thead>\n",
       "    <tr style=\"text-align: right;\">\n",
       "      <th></th>\n",
       "      <th>Results</th>\n",
       "      <th>Model 1</th>\n",
       "      <th>Model 2</th>\n",
       "    </tr>\n",
       "  </thead>\n",
       "  <tbody>\n",
       "    <tr>\n",
       "      <th>0</th>\n",
       "      <td>Accuracy</td>\n",
       "      <td>0.820000</td>\n",
       "      <td>0.860000</td>\n",
       "    </tr>\n",
       "    <tr>\n",
       "      <th>1</th>\n",
       "      <td>True Postive Rate</td>\n",
       "      <td>0.818182</td>\n",
       "      <td>0.853293</td>\n",
       "    </tr>\n",
       "    <tr>\n",
       "      <th>2</th>\n",
       "      <td>False Positive Rate</td>\n",
       "      <td>0.179487</td>\n",
       "      <td>0.134969</td>\n",
       "    </tr>\n",
       "    <tr>\n",
       "      <th>3</th>\n",
       "      <td>True Negative Rate</td>\n",
       "      <td>0.820513</td>\n",
       "      <td>0.865031</td>\n",
       "    </tr>\n",
       "    <tr>\n",
       "      <th>4</th>\n",
       "      <td>False Negative Rate</td>\n",
       "      <td>0.181818</td>\n",
       "      <td>0.146707</td>\n",
       "    </tr>\n",
       "  </tbody>\n",
       "</table>\n",
       "</div>"
      ],
      "text/plain": [
       "               Results   Model 1   Model 2\n",
       "0             Accuracy  0.820000  0.860000\n",
       "1    True Postive Rate  0.818182  0.853293\n",
       "2  False Positive Rate  0.179487  0.134969\n",
       "3   True Negative Rate  0.820513  0.865031\n",
       "4  False Negative Rate  0.181818  0.146707"
      ]
     },
     "execution_count": 167,
     "metadata": {},
     "output_type": "execute_result"
    }
   ],
   "source": [
    "d = {'Results': ['Accuracy', \n",
    "                 'True Postive Rate', \n",
    "                 'False Positive Rate', \n",
    "                 'True Negative Rate', \n",
    "                 'False Negative Rate'], \n",
    "     'Model 1': [acc, TPR, FPR, TNR, FNR], \n",
    "     'Model 2':[acc2, TPR2, FPR2, TNR2, FNR2]\n",
    "    }\n",
    "\n",
    "best_model = pd.DataFrame(data=d)\n",
    "best_model"
   ]
  },
  {
   "cell_type": "code",
   "execution_count": 168,
   "metadata": {},
   "outputs": [
    {
     "name": "stdout",
     "output_type": "stream",
     "text": [
      "Model 1: \n",
      "               precision    recall  f1-score   support\n",
      "\n",
      "           0       0.82      0.91      0.86       307\n",
      "           1       0.82      0.67      0.74       190\n",
      "\n",
      "    accuracy                           0.82       497\n",
      "   macro avg       0.82      0.79      0.80       497\n",
      "weighted avg       0.82      0.82      0.81       497\n",
      " \n",
      " Model 2: \n",
      "               precision    recall  f1-score   support\n",
      "\n",
      "           0       0.85      0.93      0.89       307\n",
      "           1       0.87      0.74      0.80       190\n",
      "\n",
      "    accuracy                           0.86       497\n",
      "   macro avg       0.86      0.84      0.84       497\n",
      "weighted avg       0.86      0.86      0.85       497\n",
      "\n"
     ]
    }
   ],
   "source": [
    "print('Model 1: \\n', cr, '\\n', 'Model 2: \\n', cr2)"
   ]
  },
  {
   "cell_type": "code",
   "execution_count": null,
   "metadata": {},
   "outputs": [],
   "source": []
  },
  {
   "cell_type": "code",
   "execution_count": null,
   "metadata": {},
   "outputs": [],
   "source": []
  }
 ],
 "metadata": {
  "kernelspec": {
   "display_name": "Python 3",
   "language": "python",
   "name": "python3"
  },
  "language_info": {
   "codemirror_mode": {
    "name": "ipython",
    "version": 3
   },
   "file_extension": ".py",
   "mimetype": "text/x-python",
   "name": "python",
   "nbconvert_exporter": "python",
   "pygments_lexer": "ipython3",
   "version": "3.7.6"
  }
 },
 "nbformat": 4,
 "nbformat_minor": 4
}
