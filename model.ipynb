{
 "cells": [
  {
   "cell_type": "code",
   "execution_count": 38,
   "metadata": {},
   "outputs": [],
   "source": [
    "import numpy as np\n",
    "import pandas as pd\n",
    "import seaborn as sns\n",
    "import matplotlib.pyplot as plt\n",
    "import statsmodels.formula.api as smf\n",
    "\n",
    "from sklearn.metrics import accuracy_score, precision_score, recall_score, confusion_matrix, classification_report\n",
    "from sklearn.model_selection import train_test_split\n",
    "from sklearn.linear_model import LogisticRegression, LinearRegression\n",
    "\n",
    "import warnings\n",
    "warnings.filterwarnings(\"ignore\")\n",
    "\n",
    "from acquire import get_titanic_data\n",
    "from prepare import prep_titanic"
   ]
  },
  {
   "cell_type": "markdown",
   "metadata": {},
   "source": [
    "1. Create another model that includes age in addition to fare and pclass. Does this model perform better than your previous one?"
   ]
  },
  {
   "cell_type": "code",
   "execution_count": 39,
   "metadata": {},
   "outputs": [
    {
     "data": {
      "text/html": [
       "<div>\n",
       "<style scoped>\n",
       "    .dataframe tbody tr th:only-of-type {\n",
       "        vertical-align: middle;\n",
       "    }\n",
       "\n",
       "    .dataframe tbody tr th {\n",
       "        vertical-align: top;\n",
       "    }\n",
       "\n",
       "    .dataframe thead th {\n",
       "        text-align: right;\n",
       "    }\n",
       "</style>\n",
       "<table border=\"1\" class=\"dataframe\">\n",
       "  <thead>\n",
       "    <tr style=\"text-align: right;\">\n",
       "      <th></th>\n",
       "      <th>passenger_id</th>\n",
       "      <th>survived</th>\n",
       "      <th>pclass</th>\n",
       "      <th>sex</th>\n",
       "      <th>age</th>\n",
       "      <th>sibsp</th>\n",
       "      <th>parch</th>\n",
       "      <th>fare</th>\n",
       "      <th>embarked</th>\n",
       "      <th>class</th>\n",
       "      <th>embark_town</th>\n",
       "      <th>alone</th>\n",
       "      <th>Q</th>\n",
       "      <th>S</th>\n",
       "    </tr>\n",
       "  </thead>\n",
       "  <tbody>\n",
       "    <tr>\n",
       "      <th>583</th>\n",
       "      <td>583</td>\n",
       "      <td>0</td>\n",
       "      <td>1</td>\n",
       "      <td>male</td>\n",
       "      <td>36.000000</td>\n",
       "      <td>0</td>\n",
       "      <td>0</td>\n",
       "      <td>40.1250</td>\n",
       "      <td>C</td>\n",
       "      <td>First</td>\n",
       "      <td>Cherbourg</td>\n",
       "      <td>1</td>\n",
       "      <td>0</td>\n",
       "      <td>0</td>\n",
       "    </tr>\n",
       "    <tr>\n",
       "      <th>337</th>\n",
       "      <td>337</td>\n",
       "      <td>1</td>\n",
       "      <td>1</td>\n",
       "      <td>female</td>\n",
       "      <td>41.000000</td>\n",
       "      <td>0</td>\n",
       "      <td>0</td>\n",
       "      <td>134.5000</td>\n",
       "      <td>C</td>\n",
       "      <td>First</td>\n",
       "      <td>Cherbourg</td>\n",
       "      <td>1</td>\n",
       "      <td>0</td>\n",
       "      <td>0</td>\n",
       "    </tr>\n",
       "    <tr>\n",
       "      <th>50</th>\n",
       "      <td>50</td>\n",
       "      <td>0</td>\n",
       "      <td>3</td>\n",
       "      <td>male</td>\n",
       "      <td>7.000000</td>\n",
       "      <td>4</td>\n",
       "      <td>1</td>\n",
       "      <td>39.6875</td>\n",
       "      <td>S</td>\n",
       "      <td>Third</td>\n",
       "      <td>Southampton</td>\n",
       "      <td>0</td>\n",
       "      <td>0</td>\n",
       "      <td>1</td>\n",
       "    </tr>\n",
       "    <tr>\n",
       "      <th>218</th>\n",
       "      <td>218</td>\n",
       "      <td>1</td>\n",
       "      <td>1</td>\n",
       "      <td>female</td>\n",
       "      <td>32.000000</td>\n",
       "      <td>0</td>\n",
       "      <td>0</td>\n",
       "      <td>76.2917</td>\n",
       "      <td>C</td>\n",
       "      <td>First</td>\n",
       "      <td>Cherbourg</td>\n",
       "      <td>1</td>\n",
       "      <td>0</td>\n",
       "      <td>0</td>\n",
       "    </tr>\n",
       "    <tr>\n",
       "      <th>31</th>\n",
       "      <td>31</td>\n",
       "      <td>1</td>\n",
       "      <td>1</td>\n",
       "      <td>female</td>\n",
       "      <td>29.916875</td>\n",
       "      <td>1</td>\n",
       "      <td>0</td>\n",
       "      <td>146.5208</td>\n",
       "      <td>C</td>\n",
       "      <td>First</td>\n",
       "      <td>Cherbourg</td>\n",
       "      <td>0</td>\n",
       "      <td>0</td>\n",
       "      <td>0</td>\n",
       "    </tr>\n",
       "  </tbody>\n",
       "</table>\n",
       "</div>"
      ],
      "text/plain": [
       "     passenger_id  survived  pclass     sex        age  sibsp  parch  \\\n",
       "583           583         0       1    male  36.000000      0      0   \n",
       "337           337         1       1  female  41.000000      0      0   \n",
       "50             50         0       3    male   7.000000      4      1   \n",
       "218           218         1       1  female  32.000000      0      0   \n",
       "31             31         1       1  female  29.916875      1      0   \n",
       "\n",
       "         fare embarked  class  embark_town  alone  Q  S  \n",
       "583   40.1250        C  First    Cherbourg      1  0  0  \n",
       "337  134.5000        C  First    Cherbourg      1  0  0  \n",
       "50    39.6875        S  Third  Southampton      0  0  1  \n",
       "218   76.2917        C  First    Cherbourg      1  0  0  \n",
       "31   146.5208        C  First    Cherbourg      0  0  0  "
      ]
     },
     "execution_count": 39,
     "metadata": {},
     "output_type": "execute_result"
    }
   ],
   "source": [
    "# prepped titanic data: train, validate, test samples\n",
    "\n",
    "train, validate, test = prep_titanic()\n",
    "train.head()"
   ]
  },
  {
   "cell_type": "code",
   "execution_count": 40,
   "metadata": {},
   "outputs": [
    {
     "name": "stdout",
     "output_type": "stream",
     "text": [
      "0    307\n",
      "1    190\n",
      "Name: survived, dtype: int64 \n",
      "\n",
      "Baseline Acccuracy: 0.6177062374245473\n"
     ]
    }
   ],
   "source": [
    "# baseline model: not survived is most common\n",
    "survived = train.survived.value_counts()\n",
    "print(survived, '\\n')\n",
    "\n",
    "# died/total passengers (accuracy)\n",
    "baseline_accuracy = survived[0]/survived.sum()\n",
    "print('Baseline Acccuracy:', baseline_accuracy)"
   ]
  },
  {
   "cell_type": "code",
   "execution_count": 22,
   "metadata": {},
   "outputs": [
    {
     "name": "stdout",
     "output_type": "stream",
     "text": [
      "Coefficient: \n",
      " [[-0.03051881  0.00266519 -0.97983178]]\n",
      "Intercept: \n",
      " [2.52970125]\n"
     ]
    }
   ],
   "source": [
    "# MODEL 1: includes age, pclass, fare\n",
    "\n",
    "# A. create model object\n",
    "logit = LogisticRegression(C=1, class_weight=None, random_state=123)\n",
    "\n",
    "# B. split each sample into an X DataFrame and a Y Series\n",
    "X_train = train[['age', 'fare', 'pclass']]\n",
    "Y_train = train.survived\n",
    "\n",
    "X_validate = validate[['age', 'fare', 'pclass']]\n",
    "Y_validate = validate.survived\n",
    "\n",
    "X_test = test[['age', 'fare', 'pclass']]\n",
    "Y_test = test.survived\n",
    "\n",
    "# C. Fit to X and Y train\n",
    "logit = logit.fit(X_train, Y_train)\n",
    "\n",
    "print('Coefficient: \\n', logit.coef_)\n",
    "print('Intercept: \\n', logit.intercept_)"
   ]
  },
  {
   "cell_type": "code",
   "execution_count": 23,
   "metadata": {},
   "outputs": [
    {
     "name": "stdout",
     "output_type": "stream",
     "text": [
      "Accuracy:  0.716297786720322 \n",
      "\n",
      "[[265  42]\n",
      " [ 99  91]]\n",
      "              precision    recall  f1-score   support\n",
      "\n",
      "           0       0.73      0.86      0.79       307\n",
      "           1       0.68      0.48      0.56       190\n",
      "\n",
      "    accuracy                           0.72       497\n",
      "   macro avg       0.71      0.67      0.68       497\n",
      "weighted avg       0.71      0.72      0.70       497\n",
      "\n"
     ]
    }
   ],
   "source": [
    "#D. Predict Values on X_train\n",
    "y_pred = logit.predict(X_train)\n",
    "y_pred_proba = logit.predict_proba(X_train)\n",
    "\n",
    "#accuracy\n",
    "print('Accuracy: ', logit.score(X_train, Y_train), '\\n')\n",
    "\n",
    "#confusion matrix\n",
    "print(confusion_matrix(Y_train, y_pred))\n",
    "\n",
    "#classification report\n",
    "print(classification_report(Y_train, y_pred))"
   ]
  },
  {
   "cell_type": "markdown",
   "metadata": {},
   "source": [
    "2. Include sex in your model as well. Note that you'll need to encode or create a dummy variable of this feature before including it in a model."
   ]
  },
  {
   "cell_type": "code",
   "execution_count": 24,
   "metadata": {},
   "outputs": [
    {
     "data": {
      "text/html": [
       "<div>\n",
       "<style scoped>\n",
       "    .dataframe tbody tr th:only-of-type {\n",
       "        vertical-align: middle;\n",
       "    }\n",
       "\n",
       "    .dataframe tbody tr th {\n",
       "        vertical-align: top;\n",
       "    }\n",
       "\n",
       "    .dataframe thead th {\n",
       "        text-align: right;\n",
       "    }\n",
       "</style>\n",
       "<table border=\"1\" class=\"dataframe\">\n",
       "  <thead>\n",
       "    <tr style=\"text-align: right;\">\n",
       "      <th></th>\n",
       "      <th>passenger_id</th>\n",
       "      <th>survived</th>\n",
       "      <th>pclass</th>\n",
       "      <th>sex</th>\n",
       "      <th>age</th>\n",
       "      <th>sibsp</th>\n",
       "      <th>parch</th>\n",
       "      <th>fare</th>\n",
       "      <th>embarked</th>\n",
       "      <th>class</th>\n",
       "      <th>embark_town</th>\n",
       "      <th>alone</th>\n",
       "      <th>Q</th>\n",
       "      <th>S</th>\n",
       "      <th>sex_male</th>\n",
       "    </tr>\n",
       "  </thead>\n",
       "  <tbody>\n",
       "    <tr>\n",
       "      <th>583</th>\n",
       "      <td>583</td>\n",
       "      <td>0</td>\n",
       "      <td>1</td>\n",
       "      <td>male</td>\n",
       "      <td>36.000000</td>\n",
       "      <td>0</td>\n",
       "      <td>0</td>\n",
       "      <td>40.1250</td>\n",
       "      <td>C</td>\n",
       "      <td>First</td>\n",
       "      <td>Cherbourg</td>\n",
       "      <td>1</td>\n",
       "      <td>0</td>\n",
       "      <td>0</td>\n",
       "      <td>1</td>\n",
       "    </tr>\n",
       "    <tr>\n",
       "      <th>337</th>\n",
       "      <td>337</td>\n",
       "      <td>1</td>\n",
       "      <td>1</td>\n",
       "      <td>female</td>\n",
       "      <td>41.000000</td>\n",
       "      <td>0</td>\n",
       "      <td>0</td>\n",
       "      <td>134.5000</td>\n",
       "      <td>C</td>\n",
       "      <td>First</td>\n",
       "      <td>Cherbourg</td>\n",
       "      <td>1</td>\n",
       "      <td>0</td>\n",
       "      <td>0</td>\n",
       "      <td>0</td>\n",
       "    </tr>\n",
       "    <tr>\n",
       "      <th>50</th>\n",
       "      <td>50</td>\n",
       "      <td>0</td>\n",
       "      <td>3</td>\n",
       "      <td>male</td>\n",
       "      <td>7.000000</td>\n",
       "      <td>4</td>\n",
       "      <td>1</td>\n",
       "      <td>39.6875</td>\n",
       "      <td>S</td>\n",
       "      <td>Third</td>\n",
       "      <td>Southampton</td>\n",
       "      <td>0</td>\n",
       "      <td>0</td>\n",
       "      <td>1</td>\n",
       "      <td>1</td>\n",
       "    </tr>\n",
       "    <tr>\n",
       "      <th>218</th>\n",
       "      <td>218</td>\n",
       "      <td>1</td>\n",
       "      <td>1</td>\n",
       "      <td>female</td>\n",
       "      <td>32.000000</td>\n",
       "      <td>0</td>\n",
       "      <td>0</td>\n",
       "      <td>76.2917</td>\n",
       "      <td>C</td>\n",
       "      <td>First</td>\n",
       "      <td>Cherbourg</td>\n",
       "      <td>1</td>\n",
       "      <td>0</td>\n",
       "      <td>0</td>\n",
       "      <td>0</td>\n",
       "    </tr>\n",
       "    <tr>\n",
       "      <th>31</th>\n",
       "      <td>31</td>\n",
       "      <td>1</td>\n",
       "      <td>1</td>\n",
       "      <td>female</td>\n",
       "      <td>29.916875</td>\n",
       "      <td>1</td>\n",
       "      <td>0</td>\n",
       "      <td>146.5208</td>\n",
       "      <td>C</td>\n",
       "      <td>First</td>\n",
       "      <td>Cherbourg</td>\n",
       "      <td>0</td>\n",
       "      <td>0</td>\n",
       "      <td>0</td>\n",
       "      <td>0</td>\n",
       "    </tr>\n",
       "  </tbody>\n",
       "</table>\n",
       "</div>"
      ],
      "text/plain": [
       "     passenger_id  survived  pclass     sex        age  sibsp  parch  \\\n",
       "583           583         0       1    male  36.000000      0      0   \n",
       "337           337         1       1  female  41.000000      0      0   \n",
       "50             50         0       3    male   7.000000      4      1   \n",
       "218           218         1       1  female  32.000000      0      0   \n",
       "31             31         1       1  female  29.916875      1      0   \n",
       "\n",
       "         fare embarked  class  embark_town  alone  Q  S  sex_male  \n",
       "583   40.1250        C  First    Cherbourg      1  0  0         1  \n",
       "337  134.5000        C  First    Cherbourg      1  0  0         0  \n",
       "50    39.6875        S  Third  Southampton      0  0  1         1  \n",
       "218   76.2917        C  First    Cherbourg      1  0  0         0  \n",
       "31   146.5208        C  First    Cherbourg      0  0  0         0  "
      ]
     },
     "execution_count": 24,
     "metadata": {},
     "output_type": "execute_result"
    }
   ],
   "source": [
    "# create dummy variable for sex as is_male\n",
    "train_dummies = pd.get_dummies(train[['sex']], drop_first=True)\n",
    "train = pd.concat([train, train_dummies], axis=1)\n",
    "\n",
    "validate_dummies = pd.get_dummies(validate[['sex']], drop_first=True)\n",
    "validate = pd.concat([validate, validate_dummies], axis=1)\n",
    "\n",
    "test_dummies = pd.get_dummies(test[['sex']], drop_first=True)\n",
    "test = pd.concat([test, test_dummies], axis=1)\n",
    "\n",
    "train.head()"
   ]
  },
  {
   "cell_type": "code",
   "execution_count": 25,
   "metadata": {},
   "outputs": [
    {
     "name": "stdout",
     "output_type": "stream",
     "text": [
      "Coefficient: \n",
      " [[-2.66594879e-02  9.02716903e-04 -1.11402368e+00 -2.45878213e+00]]\n",
      "Intercept: \n",
      " [4.30664987]\n"
     ]
    }
   ],
   "source": [
    "# MODEL 2: includes age, pclass, fare, sex\n",
    "\n",
    "# A. create model object\n",
    "logit2 = LogisticRegression(C=1, class_weight=None, random_state=123)\n",
    "\n",
    "# B. split each sample into an X DataFrame and a Y Series\n",
    "X_train2 = train[['age', 'fare', 'pclass', 'sex_male']]\n",
    "Y_train2 = train.survived\n",
    "\n",
    "X_validate2 = validate[['age', 'fare', 'pclass', 'sex_male']]\n",
    "Y_validate2 = validate.survived\n",
    "\n",
    "X_test2 = test[['age', 'fare', 'pclass', 'sex_male']]\n",
    "Y_test2 = test.survived\n",
    "\n",
    "# C. Fit to X and Y train\n",
    "logit2 = logit2.fit(X_train2, Y_train2)\n",
    "\n",
    "print('Coefficient: \\n', logit2.coef_)\n",
    "print('Intercept: \\n', logit2.intercept_)"
   ]
  },
  {
   "cell_type": "code",
   "execution_count": 26,
   "metadata": {},
   "outputs": [
    {
     "name": "stdout",
     "output_type": "stream",
     "text": [
      "Accuracy:  0.7987927565392354 \n",
      "\n",
      "[[263  44]\n",
      " [ 56 134]]\n",
      "              precision    recall  f1-score   support\n",
      "\n",
      "           0       0.82      0.86      0.84       307\n",
      "           1       0.75      0.71      0.73       190\n",
      "\n",
      "    accuracy                           0.80       497\n",
      "   macro avg       0.79      0.78      0.78       497\n",
      "weighted avg       0.80      0.80      0.80       497\n",
      "\n"
     ]
    }
   ],
   "source": [
    "#D. Predict Values on X_train\n",
    "y_pred2 = logit2.predict(X_train2)\n",
    "y_pred_proba2 = logit2.predict_proba(X_train2)\n",
    "\n",
    "#accuracy\n",
    "print('Accuracy: ', logit2.score(X_train2, Y_train2), '\\n')\n",
    "\n",
    "#confusion matrix\n",
    "print(confusion_matrix(Y_train2, y_pred2))\n",
    "\n",
    "#classification report\n",
    "print(classification_report(Y_train2, y_pred2))"
   ]
  },
  {
   "cell_type": "markdown",
   "metadata": {},
   "source": [
    "3. Try out other combinations of features and models."
   ]
  },
  {
   "cell_type": "code",
   "execution_count": 27,
   "metadata": {},
   "outputs": [
    {
     "name": "stdout",
     "output_type": "stream",
     "text": [
      "Coefficient: \n",
      " [[-2.55633270e-02  5.53491876e-04 -1.10859199e+00 -2.41546062e+00\n",
      "  -1.58214588e-01]]\n",
      "Intercept: \n",
      " [4.33705386]\n"
     ]
    }
   ],
   "source": [
    "# MODEL 3: includes age, pclass, fare, sex, and alone\n",
    "\n",
    "# A. create model object\n",
    "logit3 = LogisticRegression(C=1, class_weight=None, random_state=123)\n",
    "\n",
    "# B. split each sample into an X DataFrame and a Y Series\n",
    "X_train3 = train[['age', 'fare', 'pclass', 'sex_male', 'alone']]\n",
    "Y_train3 = train.survived\n",
    "\n",
    "X_validate3 = validate[['age', 'fare', 'pclass', 'sex_male', 'alone']]\n",
    "Y_validate3 = validate.survived\n",
    "\n",
    "X_test3 = test[['age', 'fare', 'pclass', 'sex_male', 'alone']]\n",
    "Y_test3 = test.survived\n",
    "\n",
    "# C. Fit to X and Y train\n",
    "logit3 = logit3.fit(X_train3, Y_train3)\n",
    "\n",
    "print('Coefficient: \\n', logit3.coef_)\n",
    "print('Intercept: \\n', logit3.intercept_)"
   ]
  },
  {
   "cell_type": "code",
   "execution_count": 28,
   "metadata": {
    "scrolled": true
   },
   "outputs": [
    {
     "name": "stdout",
     "output_type": "stream",
     "text": [
      "Accuracy:  0.7967806841046278 \n",
      "\n",
      "[[263  44]\n",
      " [ 57 133]]\n",
      "              precision    recall  f1-score   support\n",
      "\n",
      "           0       0.82      0.86      0.84       307\n",
      "           1       0.75      0.70      0.72       190\n",
      "\n",
      "    accuracy                           0.80       497\n",
      "   macro avg       0.79      0.78      0.78       497\n",
      "weighted avg       0.79      0.80      0.80       497\n",
      "\n"
     ]
    }
   ],
   "source": [
    "#D. Predict Values on X_train\n",
    "y_pred3 = logit3.predict(X_train3)\n",
    "y_pred_proba3 = logit3.predict_proba(X_train3)\n",
    "\n",
    "#accuracy\n",
    "print('Accuracy: ', logit3.score(X_train3, Y_train3), '\\n')\n",
    "\n",
    "#confusion matrix\n",
    "print(confusion_matrix(Y_train3, y_pred3))\n",
    "\n",
    "#classification report\n",
    "print(classification_report(Y_train3, y_pred3))"
   ]
  },
  {
   "cell_type": "markdown",
   "metadata": {},
   "source": [
    "4. Use you best 3 models to predict and evaluate on your validate sample."
   ]
  },
  {
   "cell_type": "code",
   "execution_count": 41,
   "metadata": {},
   "outputs": [
    {
     "name": "stdout",
     "output_type": "stream",
     "text": [
      "model 1\n",
      " 0.7289719626168224\n",
      "model 2\n",
      " 0.7850467289719626\n",
      "model 3\n",
      " 0.7850467289719626\n"
     ]
    }
   ],
   "source": [
    "# Validate Accuracy\n",
    "y_pred = logit.predict(X_validate)\n",
    "y_pred2 = logit2.predict(X_validate2)\n",
    "y_pred3 = logit3.predict(X_validate3)\n",
    "\n",
    "print(\"model 1\\n\", logit.score(X_validate, Y_validate))\n",
    "print(\"model 2\\n\", logit2.score(X_validate2, Y_validate2))\n",
    "print(\"model 3\\n\", logit3.score(X_validate3, Y_validate3))"
   ]
  },
  {
   "cell_type": "code",
   "execution_count": 43,
   "metadata": {},
   "outputs": [
    {
     "name": "stdout",
     "output_type": "stream",
     "text": [
      "model 1\n",
      " [[116  16]\n",
      " [ 42  40]]\n",
      "model 2\n",
      " [[111  21]\n",
      " [ 25  57]]\n",
      "model 3\n",
      " [[110  22]\n",
      " [ 24  58]]\n"
     ]
    }
   ],
   "source": [
    "# Validate Confusion Matrix\n",
    "print(\"model 1\\n\", confusion_matrix(Y_validate, y_pred))\n",
    "print(\"model 2\\n\", confusion_matrix(Y_validate2, y_pred2))\n",
    "print(\"model 3\\n\", confusion_matrix(Y_validate3, y_pred3))"
   ]
  },
  {
   "cell_type": "code",
   "execution_count": 45,
   "metadata": {},
   "outputs": [
    {
     "name": "stdout",
     "output_type": "stream",
     "text": [
      "model 1\n",
      "               precision    recall  f1-score   support\n",
      "\n",
      "           0       0.73      0.88      0.80       132\n",
      "           1       0.71      0.49      0.58        82\n",
      "\n",
      "    accuracy                           0.73       214\n",
      "   macro avg       0.72      0.68      0.69       214\n",
      "weighted avg       0.73      0.73      0.72       214\n",
      "\n",
      "model 2\n",
      "               precision    recall  f1-score   support\n",
      "\n",
      "           0       0.82      0.84      0.83       132\n",
      "           1       0.73      0.70      0.71        82\n",
      "\n",
      "    accuracy                           0.79       214\n",
      "   macro avg       0.77      0.77      0.77       214\n",
      "weighted avg       0.78      0.79      0.78       214\n",
      "\n",
      "model 3\n",
      "               precision    recall  f1-score   support\n",
      "\n",
      "           0       0.82      0.83      0.83       132\n",
      "           1       0.72      0.71      0.72        82\n",
      "\n",
      "    accuracy                           0.79       214\n",
      "   macro avg       0.77      0.77      0.77       214\n",
      "weighted avg       0.78      0.79      0.78       214\n",
      "\n"
     ]
    }
   ],
   "source": [
    "# Validate Classification Report\n",
    "print(\"model 1\\n\", classification_report(Y_validate, y_pred))\n",
    "print(\"model 2\\n\", classification_report(Y_validate2, y_pred2))\n",
    "print(\"model 3\\n\", classification_report(Y_validate3, y_pred3))"
   ]
  },
  {
   "cell_type": "markdown",
   "metadata": {},
   "source": [
    "5. Choose you best model from the validation performation, and evaluate it on the test dataset. How do the performance metrics compare to validate? to train?"
   ]
  },
  {
   "cell_type": "code",
   "execution_count": 47,
   "metadata": {},
   "outputs": [
    {
     "name": "stdout",
     "output_type": "stream",
     "text": [
      "Model 3: solver = lbfgs, c = 1\n",
      "Accuracy: 0.81\n",
      "[[92 18]\n",
      " [16 52]]\n",
      "              precision    recall  f1-score   support\n",
      "\n",
      "           0       0.85      0.84      0.84       110\n",
      "           1       0.74      0.76      0.75        68\n",
      "\n",
      "    accuracy                           0.81       178\n",
      "   macro avg       0.80      0.80      0.80       178\n",
      "weighted avg       0.81      0.81      0.81       178\n",
      "\n"
     ]
    }
   ],
   "source": [
    "y_pred3 = logit3.predict(X_test3)\n",
    "y_pred_proba3 = logit3.predict_proba(X_test3)\n",
    "\n",
    "print(\"Model 3: solver = lbfgs, c = 1\")\n",
    "\n",
    "print('Accuracy: {:.2f}'.format(logit3.score(X_test3, Y_test3)))\n",
    "\n",
    "print(confusion_matrix(Y_test3, y_pred3))\n",
    "\n",
    "print(classification_report(Y_test, y_pred3))"
   ]
  }
 ],
 "metadata": {
  "kernelspec": {
   "display_name": "Python 3",
   "language": "python",
   "name": "python3"
  },
  "language_info": {
   "codemirror_mode": {
    "name": "ipython",
    "version": 3
   },
   "file_extension": ".py",
   "mimetype": "text/x-python",
   "name": "python",
   "nbconvert_exporter": "python",
   "pygments_lexer": "ipython3",
   "version": "3.7.6"
  }
 },
 "nbformat": 4,
 "nbformat_minor": 4
}
