{
 "cells": [
  {
   "cell_type": "markdown",
   "metadata": {},
   "source": [
    "# Monday Morning Warmup\n",
    "\n",
    "> Take the word EASY: Its first three letters — E, A and S — are the fifth, first, and nineteenth letters, respectively, in the alphabet. If you add 5, 1, and 19, you get 25, which is the value of the alphabetical position of Y, the last letter of EASY.\n",
    ">\n",
    "> Can you think of a common five-letter word that works in the opposite way — in which the value of the alphabetical positions of its last four letters add up to the value of the alphabetical position of its first letter?\n",
    "\n",
    "1. Think about how to break this problem down into steps and write out a plan for your solution.\n",
    "2. There is a file on your mac that contains a list of words -- `/usr/share/dict/words`.\n",
    "3. Open this file with either python or pandas and implement your solution."
   ]
  },
  {
   "cell_type": "markdown",
   "metadata": {},
   "source": [
    "#### Zach's Solution"
   ]
  },
  {
   "cell_type": "markdown",
   "metadata": {},
   "source": [
    "Plan:\n",
    "\n",
    "- map alphabetical characters to number values\n",
    "- need to sum the alphabetical value for multiple letters (last 4)\n",
    "- we need to do this for every word in list of words\n",
    "- if alpha value fo the first char == alpha value of the last 4 we found word\n",
    "\n",
    "---\n",
    "\n",
    "- get_alpha_value(letter)\n",
    "- get_word_alpha(value)\n",
    "- loop: word every word in words\n",
    "    - does the word match?\n",
    "    - i.e. alpha_value(first_char) == alpha_value(last_four)"
   ]
  },
  {
   "cell_type": "code",
   "execution_count": 42,
   "metadata": {},
   "outputs": [
    {
     "data": {
      "text/plain": [
       "26"
      ]
     },
     "execution_count": 42,
     "metadata": {},
     "output_type": "execute_result"
    }
   ],
   "source": [
    "def get_alpha_value(letter):\n",
    "    return 'abcdefghijklmnopqrstuvwxyz'.index(letter.lower())+1\n",
    "\n",
    "get_alpha_value('z')"
   ]
  },
  {
   "cell_type": "code",
   "execution_count": 44,
   "metadata": {},
   "outputs": [
    {
     "data": {
      "text/plain": [
       "6"
      ]
     },
     "execution_count": 44,
     "metadata": {},
     "output_type": "execute_result"
    }
   ],
   "source": [
    "def get_word_value(letters):\n",
    "    #calculate the alpha value for each letter and return the sum\n",
    "    total = 0\n",
    "    for letter in word:\n",
    "        total += get_alpha_value(letter)\n",
    "    return total\n",
    "\n",
    "get_word_value('abc') # 1 + 2 + 3 = 6"
   ]
  },
  {
   "cell_type": "code",
   "execution_count": 54,
   "metadata": {},
   "outputs": [
    {
     "data": {
      "text/plain": [
       "False"
      ]
     },
     "execution_count": 54,
     "metadata": {},
     "output_type": "execute_result"
    }
   ],
   "source": [
    "def does_word_match(word):\n",
    "    if len(word) != 5:\n",
    "        return False\n",
    "    #check if alpha value of first letter == val of last_four\n",
    "    first_letter = word[0]\n",
    "    last_four = word[-4:]\n",
    "    \n",
    "    return get_word_value(last_four) == get_alpha_value(first_letter)\n",
    "\n",
    "does_word_match('abc')"
   ]
  },
  {
   "cell_type": "code",
   "execution_count": 55,
   "metadata": {},
   "outputs": [],
   "source": [
    "with open('/usr/share/dict/words') as f:\n",
    "    words = f.read().strip().split('\\n')"
   ]
  },
  {
   "cell_type": "code",
   "execution_count": 56,
   "metadata": {},
   "outputs": [
    {
     "name": "stdout",
     "output_type": "stream",
     "text": [
      "raffe\n",
      "Sadie\n",
      "sifac\n",
      "table\n",
      "Uchee\n",
      "vakia\n",
      "Vicia\n",
      "wanga\n",
      "whack\n",
      "Xicak\n",
      "yeara\n",
      "zebra\n"
     ]
    }
   ],
   "source": [
    "for word in words:\n",
    "    if does_word_match(word):\n",
    "        print(word)"
   ]
  },
  {
   "cell_type": "code",
   "execution_count": 62,
   "metadata": {},
   "outputs": [
    {
     "data": {
      "text/plain": [
       "162735    raffe\n",
       "172406    Sadie\n",
       "181168    sifac\n",
       "197206    table\n",
       "210149    Uchee\n",
       "226709    vakia\n",
       "228545    Vicia\n",
       "230352    wanga\n",
       "231506    whack\n",
       "234120    Xicak\n",
       "234512    yeara\n",
       "235088    zebra\n",
       "Name: word, dtype: object"
      ]
     },
     "execution_count": 62,
     "metadata": {},
     "output_type": "execute_result"
    }
   ],
   "source": [
    "import pandas as pd\n",
    "df= pd.read_csv('/usr/share/dict/words', header=None, names=['word'])\n",
    "\n",
    "#get just the 5 letter words\n",
    "df['word_length'] = df.word.apply(str).apply(len)\n",
    "df = df[df.word_length == 5]\n",
    "df['first_letter'] = df.word.str[0]\n",
    "df['last_four'] = df.word.str[1:]\n",
    "df['first_val'] = df.first_letter.apply(get_alpha_value)\n",
    "df['last_four_val'] = df.last_four.apply(get_word_value)\n",
    "df[df.first_val == df.last_four_val].word"
   ]
  },
  {
   "cell_type": "markdown",
   "metadata": {},
   "source": [
    "#### My solution"
   ]
  },
  {
   "cell_type": "code",
   "execution_count": 19,
   "metadata": {},
   "outputs": [
    {
     "data": {
      "text/plain": [
       "0        A\n",
       "1        a\n",
       "2       aa\n",
       "3      aal\n",
       "4    aalii\n",
       "dtype: object"
      ]
     },
     "execution_count": 19,
     "metadata": {},
     "output_type": "execute_result"
    }
   ],
   "source": [
    "file = '/usr/share/dict/words'\n",
    "words = open(file).readlines()\n",
    "words = [sub[ : -1] for sub in words]\n",
    "words = pd.Series(words)\n",
    "words.head()"
   ]
  },
  {
   "cell_type": "code",
   "execution_count": 18,
   "metadata": {},
   "outputs": [],
   "source": [
    "import string\n",
    "abc = list(string.ascii_lowercase)"
   ]
  },
  {
   "cell_type": "code",
   "execution_count": 22,
   "metadata": {},
   "outputs": [],
   "source": [
    "count = 0\n",
    "numbers = []\n",
    "for letter in abc:\n",
    "    count += 1\n",
    "    numbers.append(count)"
   ]
  },
  {
   "cell_type": "code",
   "execution_count": 40,
   "metadata": {},
   "outputs": [],
   "source": [
    "abc_123 = pd.Series(dict(zip(abc, numbers)))"
   ]
  },
  {
   "cell_type": "code",
   "execution_count": null,
   "metadata": {},
   "outputs": [],
   "source": [
    "words[abc.numbers]"
   ]
  }
 ],
 "metadata": {
  "kernelspec": {
   "display_name": "Python 3",
   "language": "python",
   "name": "python3"
  },
  "language_info": {
   "codemirror_mode": {
    "name": "ipython",
    "version": 3
   },
   "file_extension": ".py",
   "mimetype": "text/x-python",
   "name": "python",
   "nbconvert_exporter": "python",
   "pygments_lexer": "ipython3",
   "version": "3.7.6"
  }
 },
 "nbformat": 4,
 "nbformat_minor": 2
}
